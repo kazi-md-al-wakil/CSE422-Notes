{
  "nbformat": 4,
  "nbformat_minor": 0,
  "metadata": {
    "colab": {
      "name": "Pandas Tips",
      "provenance": [],
      "collapsed_sections": [],
      "toc_visible": true
    },
    "kernelspec": {
      "name": "python3",
      "display_name": "Python 3"
    }
  },
  "cells": [
    {
      "cell_type": "markdown",
      "metadata": {
        "id": "kH4hgf9NCi-d"
      },
      "source": [
        "# CSE422: Introduction to Pandas\n",
        "---"
      ]
    },
    {
      "cell_type": "markdown",
      "metadata": {
        "id": "sNuranQDbcdl"
      },
      "source": [
        "\n",
        "Pandas is an open-source easy-to-use python library for data manipulation and analysis."
      ]
    },
    {
      "cell_type": "markdown",
      "metadata": {
        "id": "QDBrb4Yrd9RF"
      },
      "source": [
        "DataFrame is a 2-dimensional labeled data structure with columns of potentially different types. You can think of it like a spreadsheet or SQL table, or a dictionary of Series objects. "
      ]
    },
    {
      "cell_type": "markdown",
      "metadata": {
        "id": "LS81fvfjaNsg"
      },
      "source": [
        "#Series : First main data type in Pandas"
      ]
    },
    {
      "cell_type": "code",
      "metadata": {
        "id": "j3XCunq6ZfkG"
      },
      "source": [
        "\n",
        "import pandas as pd\n",
        "labels =['a','b','c']\n",
        "my_data=[10,20,30]\n",
        "\n",
        "d={'a':10,'b':10,'c':30}"
      ],
      "execution_count": null,
      "outputs": []
    },
    {
      "cell_type": "code",
      "metadata": {
        "id": "Vshq9n1UbOFj",
        "colab": {
          "base_uri": "https://localhost:8080/"
        },
        "outputId": "2d5a02c4-bcad-415b-90d7-a3642f582086"
      },
      "source": [
        "pd.Series(d)"
      ],
      "execution_count": null,
      "outputs": [
        {
          "output_type": "execute_result",
          "data": {
            "text/plain": [
              "a    10\n",
              "b    10\n",
              "c    30\n",
              "dtype: int64"
            ]
          },
          "metadata": {
            "tags": []
          },
          "execution_count": 174
        }
      ]
    },
    {
      "cell_type": "markdown",
      "metadata": {
        "id": "sxrmGPGgcf56"
      },
      "source": [
        "#DataFrame"
      ]
    },
    {
      "cell_type": "code",
      "metadata": {
        "id": "LPwOjiuxck3I",
        "colab": {
          "base_uri": "https://localhost:8080/"
        },
        "outputId": "3e19b30f-5a1c-49b1-8b63-cd2ef8970938"
      },
      "source": [
        "\n",
        "import numpy as np\n",
        "\n",
        "x=np.random.randint(100,size=(5,4)) \n",
        "print(\"Numpy Array:\")\n",
        "x"
      ],
      "execution_count": null,
      "outputs": [
        {
          "output_type": "stream",
          "text": [
            "Numpy Array:\n"
          ],
          "name": "stdout"
        },
        {
          "output_type": "execute_result",
          "data": {
            "text/plain": [
              "array([[83, 30, 95, 89],\n",
              "       [43, 21, 90, 24],\n",
              "       [23, 53, 74, 58],\n",
              "       [54, 63, 20, 86],\n",
              "       [12, 99, 50, 38]])"
            ]
          },
          "metadata": {
            "tags": []
          },
          "execution_count": 175
        }
      ]
    },
    {
      "cell_type": "code",
      "metadata": {
        "colab": {
          "base_uri": "https://localhost:8080/",
          "height": 220
        },
        "id": "X2WcrlCoIVtt",
        "outputId": "51eb40a5-35ee-4d7f-83b9-4058445cdf3a"
      },
      "source": [
        "\n",
        "import pandas as pd\n",
        "df = pd.DataFrame(x)\n",
        "print(\"Pandas DataFrame:\")\n",
        "df"
      ],
      "execution_count": null,
      "outputs": [
        {
          "output_type": "stream",
          "text": [
            "Pandas DataFrame:\n"
          ],
          "name": "stdout"
        },
        {
          "output_type": "execute_result",
          "data": {
            "text/html": [
              "<div>\n",
              "<style scoped>\n",
              "    .dataframe tbody tr th:only-of-type {\n",
              "        vertical-align: middle;\n",
              "    }\n",
              "\n",
              "    .dataframe tbody tr th {\n",
              "        vertical-align: top;\n",
              "    }\n",
              "\n",
              "    .dataframe thead th {\n",
              "        text-align: right;\n",
              "    }\n",
              "</style>\n",
              "<table border=\"1\" class=\"dataframe\">\n",
              "  <thead>\n",
              "    <tr style=\"text-align: right;\">\n",
              "      <th></th>\n",
              "      <th>0</th>\n",
              "      <th>1</th>\n",
              "      <th>2</th>\n",
              "      <th>3</th>\n",
              "    </tr>\n",
              "  </thead>\n",
              "  <tbody>\n",
              "    <tr>\n",
              "      <th>0</th>\n",
              "      <td>83</td>\n",
              "      <td>30</td>\n",
              "      <td>95</td>\n",
              "      <td>89</td>\n",
              "    </tr>\n",
              "    <tr>\n",
              "      <th>1</th>\n",
              "      <td>43</td>\n",
              "      <td>21</td>\n",
              "      <td>90</td>\n",
              "      <td>24</td>\n",
              "    </tr>\n",
              "    <tr>\n",
              "      <th>2</th>\n",
              "      <td>23</td>\n",
              "      <td>53</td>\n",
              "      <td>74</td>\n",
              "      <td>58</td>\n",
              "    </tr>\n",
              "    <tr>\n",
              "      <th>3</th>\n",
              "      <td>54</td>\n",
              "      <td>63</td>\n",
              "      <td>20</td>\n",
              "      <td>86</td>\n",
              "    </tr>\n",
              "    <tr>\n",
              "      <th>4</th>\n",
              "      <td>12</td>\n",
              "      <td>99</td>\n",
              "      <td>50</td>\n",
              "      <td>38</td>\n",
              "    </tr>\n",
              "  </tbody>\n",
              "</table>\n",
              "</div>"
            ],
            "text/plain": [
              "    0   1   2   3\n",
              "0  83  30  95  89\n",
              "1  43  21  90  24\n",
              "2  23  53  74  58\n",
              "3  54  63  20  86\n",
              "4  12  99  50  38"
            ]
          },
          "metadata": {
            "tags": []
          },
          "execution_count": 176
        }
      ]
    },
    {
      "cell_type": "code",
      "metadata": {
        "colab": {
          "base_uri": "https://localhost:8080/",
          "height": 220
        },
        "id": "G40WPDEBIb2P",
        "outputId": "f6351546-8358-4dc6-9ea5-0875b525df1a"
      },
      "source": [
        "\n",
        "df = pd.DataFrame(x,['x','b','c','d','e'],['W','X','Y','Z'])\n",
        "print(\"Pandas DataFrame with custom indexing:\")\n",
        "df"
      ],
      "execution_count": null,
      "outputs": [
        {
          "output_type": "stream",
          "text": [
            "Pandas DataFrame with custom indexing:\n"
          ],
          "name": "stdout"
        },
        {
          "output_type": "execute_result",
          "data": {
            "text/html": [
              "<div>\n",
              "<style scoped>\n",
              "    .dataframe tbody tr th:only-of-type {\n",
              "        vertical-align: middle;\n",
              "    }\n",
              "\n",
              "    .dataframe tbody tr th {\n",
              "        vertical-align: top;\n",
              "    }\n",
              "\n",
              "    .dataframe thead th {\n",
              "        text-align: right;\n",
              "    }\n",
              "</style>\n",
              "<table border=\"1\" class=\"dataframe\">\n",
              "  <thead>\n",
              "    <tr style=\"text-align: right;\">\n",
              "      <th></th>\n",
              "      <th>W</th>\n",
              "      <th>X</th>\n",
              "      <th>Y</th>\n",
              "      <th>Z</th>\n",
              "    </tr>\n",
              "  </thead>\n",
              "  <tbody>\n",
              "    <tr>\n",
              "      <th>x</th>\n",
              "      <td>83</td>\n",
              "      <td>30</td>\n",
              "      <td>95</td>\n",
              "      <td>89</td>\n",
              "    </tr>\n",
              "    <tr>\n",
              "      <th>b</th>\n",
              "      <td>43</td>\n",
              "      <td>21</td>\n",
              "      <td>90</td>\n",
              "      <td>24</td>\n",
              "    </tr>\n",
              "    <tr>\n",
              "      <th>c</th>\n",
              "      <td>23</td>\n",
              "      <td>53</td>\n",
              "      <td>74</td>\n",
              "      <td>58</td>\n",
              "    </tr>\n",
              "    <tr>\n",
              "      <th>d</th>\n",
              "      <td>54</td>\n",
              "      <td>63</td>\n",
              "      <td>20</td>\n",
              "      <td>86</td>\n",
              "    </tr>\n",
              "    <tr>\n",
              "      <th>e</th>\n",
              "      <td>12</td>\n",
              "      <td>99</td>\n",
              "      <td>50</td>\n",
              "      <td>38</td>\n",
              "    </tr>\n",
              "  </tbody>\n",
              "</table>\n",
              "</div>"
            ],
            "text/plain": [
              "    W   X   Y   Z\n",
              "x  83  30  95  89\n",
              "b  43  21  90  24\n",
              "c  23  53  74  58\n",
              "d  54  63  20  86\n",
              "e  12  99  50  38"
            ]
          },
          "metadata": {
            "tags": []
          },
          "execution_count": 177
        }
      ]
    },
    {
      "cell_type": "code",
      "metadata": {
        "id": "rXBIrlYAgTHx",
        "colab": {
          "base_uri": "https://localhost:8080/"
        },
        "outputId": "fee8d0e3-2ac1-40ec-b17a-4a0599a87e41"
      },
      "source": [
        "df['X']"
      ],
      "execution_count": null,
      "outputs": [
        {
          "output_type": "execute_result",
          "data": {
            "text/plain": [
              "x    30\n",
              "b    21\n",
              "c    53\n",
              "d    63\n",
              "e    99\n",
              "Name: X, dtype: int64"
            ]
          },
          "metadata": {
            "tags": []
          },
          "execution_count": 178
        }
      ]
    },
    {
      "cell_type": "code",
      "metadata": {
        "id": "cYO618magyUw",
        "colab": {
          "base_uri": "https://localhost:8080/",
          "height": 203
        },
        "outputId": "f01fd581-357c-445b-ecf1-3999b13d692d"
      },
      "source": [
        "#ENTERING ANATHER COLUMN IN A DATAFRAME\n",
        "df['new_col']=[1,2,3,4,5]\n",
        "df"
      ],
      "execution_count": null,
      "outputs": [
        {
          "output_type": "execute_result",
          "data": {
            "text/html": [
              "<div>\n",
              "<style scoped>\n",
              "    .dataframe tbody tr th:only-of-type {\n",
              "        vertical-align: middle;\n",
              "    }\n",
              "\n",
              "    .dataframe tbody tr th {\n",
              "        vertical-align: top;\n",
              "    }\n",
              "\n",
              "    .dataframe thead th {\n",
              "        text-align: right;\n",
              "    }\n",
              "</style>\n",
              "<table border=\"1\" class=\"dataframe\">\n",
              "  <thead>\n",
              "    <tr style=\"text-align: right;\">\n",
              "      <th></th>\n",
              "      <th>W</th>\n",
              "      <th>X</th>\n",
              "      <th>Y</th>\n",
              "      <th>Z</th>\n",
              "      <th>new_col</th>\n",
              "    </tr>\n",
              "  </thead>\n",
              "  <tbody>\n",
              "    <tr>\n",
              "      <th>x</th>\n",
              "      <td>83</td>\n",
              "      <td>30</td>\n",
              "      <td>95</td>\n",
              "      <td>89</td>\n",
              "      <td>1</td>\n",
              "    </tr>\n",
              "    <tr>\n",
              "      <th>b</th>\n",
              "      <td>43</td>\n",
              "      <td>21</td>\n",
              "      <td>90</td>\n",
              "      <td>24</td>\n",
              "      <td>2</td>\n",
              "    </tr>\n",
              "    <tr>\n",
              "      <th>c</th>\n",
              "      <td>23</td>\n",
              "      <td>53</td>\n",
              "      <td>74</td>\n",
              "      <td>58</td>\n",
              "      <td>3</td>\n",
              "    </tr>\n",
              "    <tr>\n",
              "      <th>d</th>\n",
              "      <td>54</td>\n",
              "      <td>63</td>\n",
              "      <td>20</td>\n",
              "      <td>86</td>\n",
              "      <td>4</td>\n",
              "    </tr>\n",
              "    <tr>\n",
              "      <th>e</th>\n",
              "      <td>12</td>\n",
              "      <td>99</td>\n",
              "      <td>50</td>\n",
              "      <td>38</td>\n",
              "      <td>5</td>\n",
              "    </tr>\n",
              "  </tbody>\n",
              "</table>\n",
              "</div>"
            ],
            "text/plain": [
              "    W   X   Y   Z  new_col\n",
              "x  83  30  95  89        1\n",
              "b  43  21  90  24        2\n",
              "c  23  53  74  58        3\n",
              "d  54  63  20  86        4\n",
              "e  12  99  50  38        5"
            ]
          },
          "metadata": {
            "tags": []
          },
          "execution_count": 179
        }
      ]
    },
    {
      "cell_type": "code",
      "metadata": {
        "id": "RlRX4HntmApc",
        "colab": {
          "base_uri": "https://localhost:8080/"
        },
        "outputId": "960c4f71-70d8-41c5-e335-677df1c72ac0"
      },
      "source": [
        "#how delete column in dataframe:\n",
        "df.drop('Y',axis=1,inplace=True)\n",
        "print(df)"
      ],
      "execution_count": null,
      "outputs": [
        {
          "output_type": "stream",
          "text": [
            "    W   X   Z  new_col\n",
            "x  83  30  89        1\n",
            "b  43  21  24        2\n",
            "c  23  53  58        3\n",
            "d  54  63  86        4\n",
            "e  12  99  38        5\n"
          ],
          "name": "stdout"
        }
      ]
    },
    {
      "cell_type": "code",
      "metadata": {
        "id": "1muaRooTSoJ5",
        "colab": {
          "base_uri": "https://localhost:8080/"
        },
        "outputId": "4e38849f-7705-4e74-8f8e-a5077dd29b16"
      },
      "source": [
        "#how delete column in dataframe:\n",
        "df.drop('c',axis=0,inplace=True)\n",
        "print(df)"
      ],
      "execution_count": null,
      "outputs": [
        {
          "output_type": "stream",
          "text": [
            "    W   X   Z  new_col\n",
            "x  83  30  89        1\n",
            "b  43  21  24        2\n",
            "d  54  63  86        4\n",
            "e  12  99  38        5\n"
          ],
          "name": "stdout"
        }
      ]
    },
    {
      "cell_type": "markdown",
      "metadata": {
        "id": "P7qlBtc5xw5H"
      },
      "source": [
        "#Importing pandas library and reading a CSV file into a dataframe."
      ]
    },
    {
      "cell_type": "code",
      "metadata": {
        "id": "kjDr1pxEMDrQ"
      },
      "source": [
        ""
      ],
      "execution_count": null,
      "outputs": []
    },
    {
      "cell_type": "code",
      "metadata": {
        "id": "F_CdiqBnHJiN",
        "colab": {
          "base_uri": "https://localhost:8080/",
          "height": 233
        },
        "outputId": "65fe8e85-5f9c-48a0-ea81-7ef3a7c61cbf"
      },
      "source": [
        " df = pd.read_csv('/content/sample_data/sales.csv',index_col='month')\n",
        " df.head()\n",
        " "
      ],
      "execution_count": null,
      "outputs": [
        {
          "output_type": "execute_result",
          "data": {
            "text/html": [
              "<div>\n",
              "<style scoped>\n",
              "    .dataframe tbody tr th:only-of-type {\n",
              "        vertical-align: middle;\n",
              "    }\n",
              "\n",
              "    .dataframe tbody tr th {\n",
              "        vertical-align: top;\n",
              "    }\n",
              "\n",
              "    .dataframe thead th {\n",
              "        text-align: right;\n",
              "    }\n",
              "</style>\n",
              "<table border=\"1\" class=\"dataframe\">\n",
              "  <thead>\n",
              "    <tr style=\"text-align: right;\">\n",
              "      <th></th>\n",
              "      <th>eggs</th>\n",
              "      <th>salt</th>\n",
              "      <th>spam</th>\n",
              "    </tr>\n",
              "    <tr>\n",
              "      <th>month</th>\n",
              "      <th></th>\n",
              "      <th></th>\n",
              "      <th></th>\n",
              "    </tr>\n",
              "  </thead>\n",
              "  <tbody>\n",
              "    <tr>\n",
              "      <th>Jan</th>\n",
              "      <td>47</td>\n",
              "      <td>12.0</td>\n",
              "      <td>17</td>\n",
              "    </tr>\n",
              "    <tr>\n",
              "      <th>Feb</th>\n",
              "      <td>110</td>\n",
              "      <td>50.0</td>\n",
              "      <td>31</td>\n",
              "    </tr>\n",
              "    <tr>\n",
              "      <th>Mar</th>\n",
              "      <td>221</td>\n",
              "      <td>89.0</td>\n",
              "      <td>72</td>\n",
              "    </tr>\n",
              "    <tr>\n",
              "      <th>Apr</th>\n",
              "      <td>77</td>\n",
              "      <td>87.0</td>\n",
              "      <td>20</td>\n",
              "    </tr>\n",
              "    <tr>\n",
              "      <th>May</th>\n",
              "      <td>132</td>\n",
              "      <td>NaN</td>\n",
              "      <td>52</td>\n",
              "    </tr>\n",
              "  </tbody>\n",
              "</table>\n",
              "</div>"
            ],
            "text/plain": [
              "       eggs  salt  spam\n",
              "month                  \n",
              "Jan      47  12.0    17\n",
              "Feb     110  50.0    31\n",
              "Mar     221  89.0    72\n",
              "Apr      77  87.0    20\n",
              "May     132   NaN    52"
            ]
          },
          "metadata": {
            "tags": []
          },
          "execution_count": 182
        }
      ]
    },
    {
      "cell_type": "markdown",
      "metadata": {
        "id": "g_Qq3janGrUq"
      },
      "source": [
        "# Indexing DataFrames\n",
        " "
      ]
    },
    {
      "cell_type": "markdown",
      "metadata": {
        "id": "0-ThM390Ra7Q"
      },
      "source": [
        "## Indexing using square brackets"
      ]
    },
    {
      "cell_type": "code",
      "metadata": {
        "id": "HcPxPB5SzcK-",
        "colab": {
          "base_uri": "https://localhost:8080/",
          "height": 233
        },
        "outputId": "cb9e45e7-5b20-4f0a-8ea0-fab567fa1b63"
      },
      "source": [
        "df = pd.read_csv('/content/sample_data/sales.csv',index_col='month')\n",
        "df.head()"
      ],
      "execution_count": null,
      "outputs": [
        {
          "output_type": "execute_result",
          "data": {
            "text/html": [
              "<div>\n",
              "<style scoped>\n",
              "    .dataframe tbody tr th:only-of-type {\n",
              "        vertical-align: middle;\n",
              "    }\n",
              "\n",
              "    .dataframe tbody tr th {\n",
              "        vertical-align: top;\n",
              "    }\n",
              "\n",
              "    .dataframe thead th {\n",
              "        text-align: right;\n",
              "    }\n",
              "</style>\n",
              "<table border=\"1\" class=\"dataframe\">\n",
              "  <thead>\n",
              "    <tr style=\"text-align: right;\">\n",
              "      <th></th>\n",
              "      <th>eggs</th>\n",
              "      <th>salt</th>\n",
              "      <th>spam</th>\n",
              "    </tr>\n",
              "    <tr>\n",
              "      <th>month</th>\n",
              "      <th></th>\n",
              "      <th></th>\n",
              "      <th></th>\n",
              "    </tr>\n",
              "  </thead>\n",
              "  <tbody>\n",
              "    <tr>\n",
              "      <th>Jan</th>\n",
              "      <td>47</td>\n",
              "      <td>12.0</td>\n",
              "      <td>17</td>\n",
              "    </tr>\n",
              "    <tr>\n",
              "      <th>Feb</th>\n",
              "      <td>110</td>\n",
              "      <td>50.0</td>\n",
              "      <td>31</td>\n",
              "    </tr>\n",
              "    <tr>\n",
              "      <th>Mar</th>\n",
              "      <td>221</td>\n",
              "      <td>89.0</td>\n",
              "      <td>72</td>\n",
              "    </tr>\n",
              "    <tr>\n",
              "      <th>Apr</th>\n",
              "      <td>77</td>\n",
              "      <td>87.0</td>\n",
              "      <td>20</td>\n",
              "    </tr>\n",
              "    <tr>\n",
              "      <th>May</th>\n",
              "      <td>132</td>\n",
              "      <td>NaN</td>\n",
              "      <td>52</td>\n",
              "    </tr>\n",
              "  </tbody>\n",
              "</table>\n",
              "</div>"
            ],
            "text/plain": [
              "       eggs  salt  spam\n",
              "month                  \n",
              "Jan      47  12.0    17\n",
              "Feb     110  50.0    31\n",
              "Mar     221  89.0    72\n",
              "Apr      77  87.0    20\n",
              "May     132   NaN    52"
            ]
          },
          "metadata": {
            "tags": []
          },
          "execution_count": 183
        }
      ]
    },
    {
      "cell_type": "code",
      "metadata": {
        "id": "ga4g4CYBHZLD",
        "colab": {
          "base_uri": "https://localhost:8080/"
        },
        "outputId": "323fcb00-9332-453a-a980-b07ab460ab83"
      },
      "source": [
        " df['eggs']['Mar'] # df[column]['rows']\n",
        " type(df)"
      ],
      "execution_count": null,
      "outputs": [
        {
          "output_type": "execute_result",
          "data": {
            "text/plain": [
              "pandas.core.frame.DataFrame"
            ]
          },
          "metadata": {
            "tags": []
          },
          "execution_count": 184
        }
      ]
    },
    {
      "cell_type": "code",
      "metadata": {
        "id": "v3YptmvXZqoL",
        "colab": {
          "base_uri": "https://localhost:8080/"
        },
        "outputId": "f0623e0f-408a-4d99-86a2-48c476ce40ee"
      },
      "source": [
        "df.eggs['Apr']"
      ],
      "execution_count": null,
      "outputs": [
        {
          "output_type": "execute_result",
          "data": {
            "text/plain": [
              "77"
            ]
          },
          "metadata": {
            "tags": []
          },
          "execution_count": 185
        }
      ]
    },
    {
      "cell_type": "markdown",
      "metadata": {
        "id": "TNVoJRWTRfwp"
      },
      "source": [
        "Using column atribute and row index/label"
      ]
    },
    {
      "cell_type": "code",
      "metadata": {
        "id": "pOWz2tytHh1w",
        "colab": {
          "base_uri": "https://localhost:8080/"
        },
        "outputId": "6335f36f-b0fe-498f-d8fd-29ad85f1c469"
      },
      "source": [
        "df.salt['Apr']"
      ],
      "execution_count": null,
      "outputs": [
        {
          "output_type": "execute_result",
          "data": {
            "text/plain": [
              "87.0"
            ]
          },
          "metadata": {
            "tags": []
          },
          "execution_count": 186
        }
      ]
    },
    {
      "cell_type": "markdown",
      "metadata": {
        "id": "KKLcXMH1RrCW"
      },
      "source": [
        "Selecting only some columns"
      ]
    },
    {
      "cell_type": "code",
      "metadata": {
        "id": "8ZnhSgBZRriz",
        "colab": {
          "base_uri": "https://localhost:8080/",
          "height": 264
        },
        "outputId": "e6f1ebee-22f3-4b6f-f5dd-7c2e0f99de45"
      },
      "source": [
        "df_new = df[['salt','spam']]\n",
        "df_new"
      ],
      "execution_count": null,
      "outputs": [
        {
          "output_type": "execute_result",
          "data": {
            "text/html": [
              "<div>\n",
              "<style scoped>\n",
              "    .dataframe tbody tr th:only-of-type {\n",
              "        vertical-align: middle;\n",
              "    }\n",
              "\n",
              "    .dataframe tbody tr th {\n",
              "        vertical-align: top;\n",
              "    }\n",
              "\n",
              "    .dataframe thead th {\n",
              "        text-align: right;\n",
              "    }\n",
              "</style>\n",
              "<table border=\"1\" class=\"dataframe\">\n",
              "  <thead>\n",
              "    <tr style=\"text-align: right;\">\n",
              "      <th></th>\n",
              "      <th>salt</th>\n",
              "      <th>spam</th>\n",
              "    </tr>\n",
              "    <tr>\n",
              "      <th>month</th>\n",
              "      <th></th>\n",
              "      <th></th>\n",
              "    </tr>\n",
              "  </thead>\n",
              "  <tbody>\n",
              "    <tr>\n",
              "      <th>Jan</th>\n",
              "      <td>12.0</td>\n",
              "      <td>17</td>\n",
              "    </tr>\n",
              "    <tr>\n",
              "      <th>Feb</th>\n",
              "      <td>50.0</td>\n",
              "      <td>31</td>\n",
              "    </tr>\n",
              "    <tr>\n",
              "      <th>Mar</th>\n",
              "      <td>89.0</td>\n",
              "      <td>72</td>\n",
              "    </tr>\n",
              "    <tr>\n",
              "      <th>Apr</th>\n",
              "      <td>87.0</td>\n",
              "      <td>20</td>\n",
              "    </tr>\n",
              "    <tr>\n",
              "      <th>May</th>\n",
              "      <td>NaN</td>\n",
              "      <td>52</td>\n",
              "    </tr>\n",
              "    <tr>\n",
              "      <th>Jun</th>\n",
              "      <td>60.0</td>\n",
              "      <td>55</td>\n",
              "    </tr>\n",
              "  </tbody>\n",
              "</table>\n",
              "</div>"
            ],
            "text/plain": [
              "       salt  spam\n",
              "month            \n",
              "Jan    12.0    17\n",
              "Feb    50.0    31\n",
              "Mar    89.0    72\n",
              "Apr    87.0    20\n",
              "May     NaN    52\n",
              "Jun    60.0    55"
            ]
          },
          "metadata": {
            "tags": []
          },
          "execution_count": 187
        }
      ]
    },
    {
      "cell_type": "markdown",
      "metadata": {
        "id": "Qa6pEfkkSkjX"
      },
      "source": [
        "Selecting a column (i.e., Series)"
      ]
    },
    {
      "cell_type": "code",
      "metadata": {
        "id": "Pz2fuIWySfJs",
        "colab": {
          "base_uri": "https://localhost:8080/"
        },
        "outputId": "4757ecd2-344e-49d1-fc52-40814fc6a5dc"
      },
      "source": [
        " df['eggs'] "
      ],
      "execution_count": null,
      "outputs": [
        {
          "output_type": "execute_result",
          "data": {
            "text/plain": [
              "month\n",
              "Jan     47\n",
              "Feb    110\n",
              "Mar    221\n",
              "Apr     77\n",
              "May    132\n",
              "Jun    205\n",
              "Name: eggs, dtype: int64"
            ]
          },
          "metadata": {
            "tags": []
          },
          "execution_count": 188
        }
      ]
    },
    {
      "cell_type": "code",
      "metadata": {
        "id": "F8FVK-SgSwGE",
        "colab": {
          "base_uri": "https://localhost:8080/"
        },
        "outputId": "c1ee8f1c-c3b7-4af6-cec7-c426df55b664"
      },
      "source": [
        "#printing type of the column selected\n",
        "type(df['eggs'])"
      ],
      "execution_count": null,
      "outputs": [
        {
          "output_type": "execute_result",
          "data": {
            "text/plain": [
              "pandas.core.series.Series"
            ]
          },
          "metadata": {
            "tags": []
          },
          "execution_count": 189
        }
      ]
    },
    {
      "cell_type": "markdown",
      "metadata": {
        "id": "lenz8lNMTMrv"
      },
      "source": [
        "Slicing and indexing a Series"
      ]
    },
    {
      "cell_type": "code",
      "metadata": {
        "id": "fZC0XNH_S9mW",
        "colab": {
          "base_uri": "https://localhost:8080/"
        },
        "outputId": "250a74ca-7409-4c15-e57a-cef1997b0ba4"
      },
      "source": [
        "#selecting part of a series\n",
        "df['eggs'][1:4]"
      ],
      "execution_count": null,
      "outputs": [
        {
          "output_type": "execute_result",
          "data": {
            "text/plain": [
              "month\n",
              "Feb    110\n",
              "Mar    221\n",
              "Apr     77\n",
              "Name: eggs, dtype: int64"
            ]
          },
          "metadata": {
            "tags": []
          },
          "execution_count": 190
        }
      ]
    },
    {
      "cell_type": "code",
      "metadata": {
        "id": "62lULwhnTy20",
        "colab": {
          "base_uri": "https://localhost:8080/"
        },
        "outputId": "d13d0178-79d3-4a36-d53d-2c48dc5052b7"
      },
      "source": [
        "df['eggs'][4] "
      ],
      "execution_count": null,
      "outputs": [
        {
          "output_type": "execute_result",
          "data": {
            "text/plain": [
              "132"
            ]
          },
          "metadata": {
            "tags": []
          },
          "execution_count": 191
        }
      ]
    },
    {
      "cell_type": "markdown",
      "metadata": {
        "id": "fq9v3FEGSdaD"
      },
      "source": [
        "# Slicing DataFrames"
      ]
    },
    {
      "cell_type": "markdown",
      "metadata": {
        "id": "w38JMr6YRjGC"
      },
      "source": [
        "Using the .loc accessor\n",
        "* Access a group of rows and columns by label(s) or a boolean array."
      ]
    },
    {
      "cell_type": "markdown",
      "metadata": {
        "id": "gf-j2_t5cndm"
      },
      "source": [
        "A series is a 1D-array that can store any data type"
      ]
    },
    {
      "cell_type": "markdown",
      "metadata": {
        "id": "jMby2QZ-YaUI"
      },
      "source": [
        "* LOC is not based on index. The stop limit is **not** exclusive\n",
        "* ILOC is based on index. The stop limit is exclusive"
      ]
    },
    {
      "cell_type": "code",
      "metadata": {
        "id": "Fal81FDFntlU",
        "colab": {
          "base_uri": "https://localhost:8080/"
        },
        "outputId": "d209af68-e631-446e-9dbe-f721ba3dddf4"
      },
      "source": [
        "#we can access row by 2 ways:\n",
        "# 1. location based selection .loc('rowname')\n",
        "# 2. numerical based selection  iloc(rowindex)\n",
        "df2 = pd.DataFrame(x,['x','b','c','d','e'],['W','X','Y','Z'])\n",
        "df2.loc[:,'X']"
      ],
      "execution_count": null,
      "outputs": [
        {
          "output_type": "execute_result",
          "data": {
            "text/plain": [
              "x    30\n",
              "b    21\n",
              "c    53\n",
              "d    63\n",
              "e    99\n",
              "Name: X, dtype: int64"
            ]
          },
          "metadata": {
            "tags": []
          },
          "execution_count": 192
        }
      ]
    },
    {
      "cell_type": "code",
      "metadata": {
        "id": "spgOgEc-b9w-",
        "colab": {
          "base_uri": "https://localhost:8080/",
          "height": 264
        },
        "outputId": "8ed7425f-2801-4547-e470-7731b4d9e820"
      },
      "source": [
        "df\n"
      ],
      "execution_count": null,
      "outputs": [
        {
          "output_type": "execute_result",
          "data": {
            "text/html": [
              "<div>\n",
              "<style scoped>\n",
              "    .dataframe tbody tr th:only-of-type {\n",
              "        vertical-align: middle;\n",
              "    }\n",
              "\n",
              "    .dataframe tbody tr th {\n",
              "        vertical-align: top;\n",
              "    }\n",
              "\n",
              "    .dataframe thead th {\n",
              "        text-align: right;\n",
              "    }\n",
              "</style>\n",
              "<table border=\"1\" class=\"dataframe\">\n",
              "  <thead>\n",
              "    <tr style=\"text-align: right;\">\n",
              "      <th></th>\n",
              "      <th>eggs</th>\n",
              "      <th>salt</th>\n",
              "      <th>spam</th>\n",
              "    </tr>\n",
              "    <tr>\n",
              "      <th>month</th>\n",
              "      <th></th>\n",
              "      <th></th>\n",
              "      <th></th>\n",
              "    </tr>\n",
              "  </thead>\n",
              "  <tbody>\n",
              "    <tr>\n",
              "      <th>Jan</th>\n",
              "      <td>47</td>\n",
              "      <td>12.0</td>\n",
              "      <td>17</td>\n",
              "    </tr>\n",
              "    <tr>\n",
              "      <th>Feb</th>\n",
              "      <td>110</td>\n",
              "      <td>50.0</td>\n",
              "      <td>31</td>\n",
              "    </tr>\n",
              "    <tr>\n",
              "      <th>Mar</th>\n",
              "      <td>221</td>\n",
              "      <td>89.0</td>\n",
              "      <td>72</td>\n",
              "    </tr>\n",
              "    <tr>\n",
              "      <th>Apr</th>\n",
              "      <td>77</td>\n",
              "      <td>87.0</td>\n",
              "      <td>20</td>\n",
              "    </tr>\n",
              "    <tr>\n",
              "      <th>May</th>\n",
              "      <td>132</td>\n",
              "      <td>NaN</td>\n",
              "      <td>52</td>\n",
              "    </tr>\n",
              "    <tr>\n",
              "      <th>Jun</th>\n",
              "      <td>205</td>\n",
              "      <td>60.0</td>\n",
              "      <td>55</td>\n",
              "    </tr>\n",
              "  </tbody>\n",
              "</table>\n",
              "</div>"
            ],
            "text/plain": [
              "       eggs  salt  spam\n",
              "month                  \n",
              "Jan      47  12.0    17\n",
              "Feb     110  50.0    31\n",
              "Mar     221  89.0    72\n",
              "Apr      77  87.0    20\n",
              "May     132   NaN    52\n",
              "Jun     205  60.0    55"
            ]
          },
          "metadata": {
            "tags": []
          },
          "execution_count": 193
        }
      ]
    },
    {
      "cell_type": "code",
      "metadata": {
        "id": "XnLBG7fzcBDt",
        "colab": {
          "base_uri": "https://localhost:8080/",
          "height": 141
        },
        "outputId": "e652fd35-11f2-40af-b931-6530d7b03ed2"
      },
      "source": [
        "df.loc['Feb':'Mar','eggs':'salt']"
      ],
      "execution_count": null,
      "outputs": [
        {
          "output_type": "execute_result",
          "data": {
            "text/html": [
              "<div>\n",
              "<style scoped>\n",
              "    .dataframe tbody tr th:only-of-type {\n",
              "        vertical-align: middle;\n",
              "    }\n",
              "\n",
              "    .dataframe tbody tr th {\n",
              "        vertical-align: top;\n",
              "    }\n",
              "\n",
              "    .dataframe thead th {\n",
              "        text-align: right;\n",
              "    }\n",
              "</style>\n",
              "<table border=\"1\" class=\"dataframe\">\n",
              "  <thead>\n",
              "    <tr style=\"text-align: right;\">\n",
              "      <th></th>\n",
              "      <th>eggs</th>\n",
              "      <th>salt</th>\n",
              "    </tr>\n",
              "    <tr>\n",
              "      <th>month</th>\n",
              "      <th></th>\n",
              "      <th></th>\n",
              "    </tr>\n",
              "  </thead>\n",
              "  <tbody>\n",
              "    <tr>\n",
              "      <th>Feb</th>\n",
              "      <td>110</td>\n",
              "      <td>50.0</td>\n",
              "    </tr>\n",
              "    <tr>\n",
              "      <th>Mar</th>\n",
              "      <td>221</td>\n",
              "      <td>89.0</td>\n",
              "    </tr>\n",
              "  </tbody>\n",
              "</table>\n",
              "</div>"
            ],
            "text/plain": [
              "       eggs  salt\n",
              "month            \n",
              "Feb     110  50.0\n",
              "Mar     221  89.0"
            ]
          },
          "metadata": {
            "tags": []
          },
          "execution_count": 194
        }
      ]
    },
    {
      "cell_type": "code",
      "metadata": {
        "id": "OM1OHzBYYfKr",
        "colab": {
          "base_uri": "https://localhost:8080/"
        },
        "outputId": "d6587760-55fb-41f6-c7a6-f4eb8fb35d70"
      },
      "source": [
        "df.loc['Feb',:]   #df.loc[rows,column] "
      ],
      "execution_count": null,
      "outputs": [
        {
          "output_type": "execute_result",
          "data": {
            "text/plain": [
              "eggs    110.0\n",
              "salt     50.0\n",
              "spam     31.0\n",
              "Name: Feb, dtype: float64"
            ]
          },
          "metadata": {
            "tags": []
          },
          "execution_count": 195
        }
      ]
    },
    {
      "cell_type": "code",
      "metadata": {
        "id": "YbaDDvHxH9mZ",
        "colab": {
          "base_uri": "https://localhost:8080/",
          "height": 172
        },
        "outputId": "42837230-120b-4a1d-d2cb-70a2cfb1abce"
      },
      "source": [
        " df.loc['Jan': 'Mar', ['eggs','spam']] "
      ],
      "execution_count": null,
      "outputs": [
        {
          "output_type": "execute_result",
          "data": {
            "text/html": [
              "<div>\n",
              "<style scoped>\n",
              "    .dataframe tbody tr th:only-of-type {\n",
              "        vertical-align: middle;\n",
              "    }\n",
              "\n",
              "    .dataframe tbody tr th {\n",
              "        vertical-align: top;\n",
              "    }\n",
              "\n",
              "    .dataframe thead th {\n",
              "        text-align: right;\n",
              "    }\n",
              "</style>\n",
              "<table border=\"1\" class=\"dataframe\">\n",
              "  <thead>\n",
              "    <tr style=\"text-align: right;\">\n",
              "      <th></th>\n",
              "      <th>eggs</th>\n",
              "      <th>spam</th>\n",
              "    </tr>\n",
              "    <tr>\n",
              "      <th>month</th>\n",
              "      <th></th>\n",
              "      <th></th>\n",
              "    </tr>\n",
              "  </thead>\n",
              "  <tbody>\n",
              "    <tr>\n",
              "      <th>Jan</th>\n",
              "      <td>47</td>\n",
              "      <td>17</td>\n",
              "    </tr>\n",
              "    <tr>\n",
              "      <th>Feb</th>\n",
              "      <td>110</td>\n",
              "      <td>31</td>\n",
              "    </tr>\n",
              "    <tr>\n",
              "      <th>Mar</th>\n",
              "      <td>221</td>\n",
              "      <td>72</td>\n",
              "    </tr>\n",
              "  </tbody>\n",
              "</table>\n",
              "</div>"
            ],
            "text/plain": [
              "       eggs  spam\n",
              "month            \n",
              "Jan      47    17\n",
              "Feb     110    31\n",
              "Mar     221    72"
            ]
          },
          "metadata": {
            "tags": []
          },
          "execution_count": 196
        }
      ]
    },
    {
      "cell_type": "code",
      "metadata": {
        "id": "1Q24UCuPUzHl",
        "colab": {
          "base_uri": "https://localhost:8080/",
          "height": 264
        },
        "outputId": "f7ac731d-4c72-4778-9512-9b0acda281e8"
      },
      "source": [
        "df.loc[:, ['eggs','salt']]   # All rows, some columns "
      ],
      "execution_count": null,
      "outputs": [
        {
          "output_type": "execute_result",
          "data": {
            "text/html": [
              "<div>\n",
              "<style scoped>\n",
              "    .dataframe tbody tr th:only-of-type {\n",
              "        vertical-align: middle;\n",
              "    }\n",
              "\n",
              "    .dataframe tbody tr th {\n",
              "        vertical-align: top;\n",
              "    }\n",
              "\n",
              "    .dataframe thead th {\n",
              "        text-align: right;\n",
              "    }\n",
              "</style>\n",
              "<table border=\"1\" class=\"dataframe\">\n",
              "  <thead>\n",
              "    <tr style=\"text-align: right;\">\n",
              "      <th></th>\n",
              "      <th>eggs</th>\n",
              "      <th>salt</th>\n",
              "    </tr>\n",
              "    <tr>\n",
              "      <th>month</th>\n",
              "      <th></th>\n",
              "      <th></th>\n",
              "    </tr>\n",
              "  </thead>\n",
              "  <tbody>\n",
              "    <tr>\n",
              "      <th>Jan</th>\n",
              "      <td>47</td>\n",
              "      <td>12.0</td>\n",
              "    </tr>\n",
              "    <tr>\n",
              "      <th>Feb</th>\n",
              "      <td>110</td>\n",
              "      <td>50.0</td>\n",
              "    </tr>\n",
              "    <tr>\n",
              "      <th>Mar</th>\n",
              "      <td>221</td>\n",
              "      <td>89.0</td>\n",
              "    </tr>\n",
              "    <tr>\n",
              "      <th>Apr</th>\n",
              "      <td>77</td>\n",
              "      <td>87.0</td>\n",
              "    </tr>\n",
              "    <tr>\n",
              "      <th>May</th>\n",
              "      <td>132</td>\n",
              "      <td>NaN</td>\n",
              "    </tr>\n",
              "    <tr>\n",
              "      <th>Jun</th>\n",
              "      <td>205</td>\n",
              "      <td>60.0</td>\n",
              "    </tr>\n",
              "  </tbody>\n",
              "</table>\n",
              "</div>"
            ],
            "text/plain": [
              "       eggs  salt\n",
              "month            \n",
              "Jan      47  12.0\n",
              "Feb     110  50.0\n",
              "Mar     221  89.0\n",
              "Apr      77  87.0\n",
              "May     132   NaN\n",
              "Jun     205  60.0"
            ]
          },
          "metadata": {
            "tags": []
          },
          "execution_count": 197
        }
      ]
    },
    {
      "cell_type": "code",
      "metadata": {
        "id": "AX2Zk7yaUzwQ",
        "colab": {
          "base_uri": "https://localhost:8080/",
          "height": 203
        },
        "outputId": "8167ff7c-942e-4c39-9fda-7d465595497e"
      },
      "source": [
        " df.loc['Jan':'Apr',:]  # Some rows, all columns "
      ],
      "execution_count": null,
      "outputs": [
        {
          "output_type": "execute_result",
          "data": {
            "text/html": [
              "<div>\n",
              "<style scoped>\n",
              "    .dataframe tbody tr th:only-of-type {\n",
              "        vertical-align: middle;\n",
              "    }\n",
              "\n",
              "    .dataframe tbody tr th {\n",
              "        vertical-align: top;\n",
              "    }\n",
              "\n",
              "    .dataframe thead th {\n",
              "        text-align: right;\n",
              "    }\n",
              "</style>\n",
              "<table border=\"1\" class=\"dataframe\">\n",
              "  <thead>\n",
              "    <tr style=\"text-align: right;\">\n",
              "      <th></th>\n",
              "      <th>eggs</th>\n",
              "      <th>salt</th>\n",
              "      <th>spam</th>\n",
              "    </tr>\n",
              "    <tr>\n",
              "      <th>month</th>\n",
              "      <th></th>\n",
              "      <th></th>\n",
              "      <th></th>\n",
              "    </tr>\n",
              "  </thead>\n",
              "  <tbody>\n",
              "    <tr>\n",
              "      <th>Jan</th>\n",
              "      <td>47</td>\n",
              "      <td>12.0</td>\n",
              "      <td>17</td>\n",
              "    </tr>\n",
              "    <tr>\n",
              "      <th>Feb</th>\n",
              "      <td>110</td>\n",
              "      <td>50.0</td>\n",
              "      <td>31</td>\n",
              "    </tr>\n",
              "    <tr>\n",
              "      <th>Mar</th>\n",
              "      <td>221</td>\n",
              "      <td>89.0</td>\n",
              "      <td>72</td>\n",
              "    </tr>\n",
              "    <tr>\n",
              "      <th>Apr</th>\n",
              "      <td>77</td>\n",
              "      <td>87.0</td>\n",
              "      <td>20</td>\n",
              "    </tr>\n",
              "  </tbody>\n",
              "</table>\n",
              "</div>"
            ],
            "text/plain": [
              "       eggs  salt  spam\n",
              "month                  \n",
              "Jan      47  12.0    17\n",
              "Feb     110  50.0    31\n",
              "Mar     221  89.0    72\n",
              "Apr      77  87.0    20"
            ]
          },
          "metadata": {
            "tags": []
          },
          "execution_count": 198
        }
      ]
    },
    {
      "cell_type": "code",
      "metadata": {
        "id": "8Z1ioy6TU3rB",
        "colab": {
          "base_uri": "https://localhost:8080/",
          "height": 172
        },
        "outputId": "816ad436-d0f7-4d9b-98b8-96ee494582cb"
      },
      "source": [
        "df.loc['Mar':'May', 'salt':'spam'] "
      ],
      "execution_count": null,
      "outputs": [
        {
          "output_type": "execute_result",
          "data": {
            "text/html": [
              "<div>\n",
              "<style scoped>\n",
              "    .dataframe tbody tr th:only-of-type {\n",
              "        vertical-align: middle;\n",
              "    }\n",
              "\n",
              "    .dataframe tbody tr th {\n",
              "        vertical-align: top;\n",
              "    }\n",
              "\n",
              "    .dataframe thead th {\n",
              "        text-align: right;\n",
              "    }\n",
              "</style>\n",
              "<table border=\"1\" class=\"dataframe\">\n",
              "  <thead>\n",
              "    <tr style=\"text-align: right;\">\n",
              "      <th></th>\n",
              "      <th>salt</th>\n",
              "      <th>spam</th>\n",
              "    </tr>\n",
              "    <tr>\n",
              "      <th>month</th>\n",
              "      <th></th>\n",
              "      <th></th>\n",
              "    </tr>\n",
              "  </thead>\n",
              "  <tbody>\n",
              "    <tr>\n",
              "      <th>Mar</th>\n",
              "      <td>89.0</td>\n",
              "      <td>72</td>\n",
              "    </tr>\n",
              "    <tr>\n",
              "      <th>Apr</th>\n",
              "      <td>87.0</td>\n",
              "      <td>20</td>\n",
              "    </tr>\n",
              "    <tr>\n",
              "      <th>May</th>\n",
              "      <td>NaN</td>\n",
              "      <td>52</td>\n",
              "    </tr>\n",
              "  </tbody>\n",
              "</table>\n",
              "</div>"
            ],
            "text/plain": [
              "       salt  spam\n",
              "month            \n",
              "Mar    89.0    72\n",
              "Apr    87.0    20\n",
              "May     NaN    52"
            ]
          },
          "metadata": {
            "tags": []
          },
          "execution_count": 199
        }
      ]
    },
    {
      "cell_type": "markdown",
      "metadata": {
        "id": "dHc_ZH3MRnwe"
      },
      "source": [
        "Using the .iloc accessor\n",
        "* Purely integer-location based indexing for selection by position."
      ]
    },
    {
      "cell_type": "code",
      "metadata": {
        "id": "i_D_fLoqdgU_",
        "colab": {
          "base_uri": "https://localhost:8080/",
          "height": 264
        },
        "outputId": "43d50ba4-0932-4f26-a24e-9bc5b01fe1d9"
      },
      "source": [
        "df"
      ],
      "execution_count": null,
      "outputs": [
        {
          "output_type": "execute_result",
          "data": {
            "text/html": [
              "<div>\n",
              "<style scoped>\n",
              "    .dataframe tbody tr th:only-of-type {\n",
              "        vertical-align: middle;\n",
              "    }\n",
              "\n",
              "    .dataframe tbody tr th {\n",
              "        vertical-align: top;\n",
              "    }\n",
              "\n",
              "    .dataframe thead th {\n",
              "        text-align: right;\n",
              "    }\n",
              "</style>\n",
              "<table border=\"1\" class=\"dataframe\">\n",
              "  <thead>\n",
              "    <tr style=\"text-align: right;\">\n",
              "      <th></th>\n",
              "      <th>eggs</th>\n",
              "      <th>salt</th>\n",
              "      <th>spam</th>\n",
              "    </tr>\n",
              "    <tr>\n",
              "      <th>month</th>\n",
              "      <th></th>\n",
              "      <th></th>\n",
              "      <th></th>\n",
              "    </tr>\n",
              "  </thead>\n",
              "  <tbody>\n",
              "    <tr>\n",
              "      <th>Jan</th>\n",
              "      <td>47</td>\n",
              "      <td>12.0</td>\n",
              "      <td>17</td>\n",
              "    </tr>\n",
              "    <tr>\n",
              "      <th>Feb</th>\n",
              "      <td>110</td>\n",
              "      <td>50.0</td>\n",
              "      <td>31</td>\n",
              "    </tr>\n",
              "    <tr>\n",
              "      <th>Mar</th>\n",
              "      <td>221</td>\n",
              "      <td>89.0</td>\n",
              "      <td>72</td>\n",
              "    </tr>\n",
              "    <tr>\n",
              "      <th>Apr</th>\n",
              "      <td>77</td>\n",
              "      <td>87.0</td>\n",
              "      <td>20</td>\n",
              "    </tr>\n",
              "    <tr>\n",
              "      <th>May</th>\n",
              "      <td>132</td>\n",
              "      <td>NaN</td>\n",
              "      <td>52</td>\n",
              "    </tr>\n",
              "    <tr>\n",
              "      <th>Jun</th>\n",
              "      <td>205</td>\n",
              "      <td>60.0</td>\n",
              "      <td>55</td>\n",
              "    </tr>\n",
              "  </tbody>\n",
              "</table>\n",
              "</div>"
            ],
            "text/plain": [
              "       eggs  salt  spam\n",
              "month                  \n",
              "Jan      47  12.0    17\n",
              "Feb     110  50.0    31\n",
              "Mar     221  89.0    72\n",
              "Apr      77  87.0    20\n",
              "May     132   NaN    52\n",
              "Jun     205  60.0    55"
            ]
          },
          "metadata": {
            "tags": []
          },
          "execution_count": 200
        }
      ]
    },
    {
      "cell_type": "code",
      "metadata": {
        "id": "sM2FVGNboXVf",
        "colab": {
          "base_uri": "https://localhost:8080/"
        },
        "outputId": "59f1b70b-49e6-455e-c2e2-322e44a6ec3d"
      },
      "source": [
        "df.iloc[2]  #indexwise\n",
        "df.iloc[2,2]"
      ],
      "execution_count": null,
      "outputs": [
        {
          "output_type": "execute_result",
          "data": {
            "text/plain": [
              "72"
            ]
          },
          "metadata": {
            "tags": []
          },
          "execution_count": 201
        }
      ]
    },
    {
      "cell_type": "code",
      "metadata": {
        "id": "u-X0SnOpIZWy",
        "colab": {
          "base_uri": "https://localhost:8080/"
        },
        "outputId": "33462fb0-d5e2-44f6-9724-8ef876c7b3b7"
      },
      "source": [
        " df.iloc[2:4, 2]"
      ],
      "execution_count": null,
      "outputs": [
        {
          "output_type": "execute_result",
          "data": {
            "text/plain": [
              "month\n",
              "Mar    72\n",
              "Apr    20\n",
              "Name: spam, dtype: int64"
            ]
          },
          "metadata": {
            "tags": []
          },
          "execution_count": 202
        }
      ]
    },
    {
      "cell_type": "code",
      "metadata": {
        "id": "ZQfh8T4ZR4Up",
        "colab": {
          "base_uri": "https://localhost:8080/",
          "height": 264
        },
        "outputId": "396c778e-d903-49d5-ab1b-aade7b13c7ee"
      },
      "source": [
        " df"
      ],
      "execution_count": null,
      "outputs": [
        {
          "output_type": "execute_result",
          "data": {
            "text/html": [
              "<div>\n",
              "<style scoped>\n",
              "    .dataframe tbody tr th:only-of-type {\n",
              "        vertical-align: middle;\n",
              "    }\n",
              "\n",
              "    .dataframe tbody tr th {\n",
              "        vertical-align: top;\n",
              "    }\n",
              "\n",
              "    .dataframe thead th {\n",
              "        text-align: right;\n",
              "    }\n",
              "</style>\n",
              "<table border=\"1\" class=\"dataframe\">\n",
              "  <thead>\n",
              "    <tr style=\"text-align: right;\">\n",
              "      <th></th>\n",
              "      <th>eggs</th>\n",
              "      <th>salt</th>\n",
              "      <th>spam</th>\n",
              "    </tr>\n",
              "    <tr>\n",
              "      <th>month</th>\n",
              "      <th></th>\n",
              "      <th></th>\n",
              "      <th></th>\n",
              "    </tr>\n",
              "  </thead>\n",
              "  <tbody>\n",
              "    <tr>\n",
              "      <th>Jan</th>\n",
              "      <td>47</td>\n",
              "      <td>12.0</td>\n",
              "      <td>17</td>\n",
              "    </tr>\n",
              "    <tr>\n",
              "      <th>Feb</th>\n",
              "      <td>110</td>\n",
              "      <td>50.0</td>\n",
              "      <td>31</td>\n",
              "    </tr>\n",
              "    <tr>\n",
              "      <th>Mar</th>\n",
              "      <td>221</td>\n",
              "      <td>89.0</td>\n",
              "      <td>72</td>\n",
              "    </tr>\n",
              "    <tr>\n",
              "      <th>Apr</th>\n",
              "      <td>77</td>\n",
              "      <td>87.0</td>\n",
              "      <td>20</td>\n",
              "    </tr>\n",
              "    <tr>\n",
              "      <th>May</th>\n",
              "      <td>132</td>\n",
              "      <td>NaN</td>\n",
              "      <td>52</td>\n",
              "    </tr>\n",
              "    <tr>\n",
              "      <th>Jun</th>\n",
              "      <td>205</td>\n",
              "      <td>60.0</td>\n",
              "      <td>55</td>\n",
              "    </tr>\n",
              "  </tbody>\n",
              "</table>\n",
              "</div>"
            ],
            "text/plain": [
              "       eggs  salt  spam\n",
              "month                  \n",
              "Jan      47  12.0    17\n",
              "Feb     110  50.0    31\n",
              "Mar     221  89.0    72\n",
              "Apr      77  87.0    20\n",
              "May     132   NaN    52\n",
              "Jun     205  60.0    55"
            ]
          },
          "metadata": {
            "tags": []
          },
          "execution_count": 203
        }
      ]
    },
    {
      "cell_type": "code",
      "metadata": {
        "id": "tqJeoApP9BCN",
        "colab": {
          "base_uri": "https://localhost:8080/",
          "height": 172
        },
        "outputId": "8eaffcab-614d-4104-8d5a-9a0d4b4c347b"
      },
      "source": [
        "df.iloc[2:5, 1:] # A block from middle of the DataFrame "
      ],
      "execution_count": null,
      "outputs": [
        {
          "output_type": "execute_result",
          "data": {
            "text/html": [
              "<div>\n",
              "<style scoped>\n",
              "    .dataframe tbody tr th:only-of-type {\n",
              "        vertical-align: middle;\n",
              "    }\n",
              "\n",
              "    .dataframe tbody tr th {\n",
              "        vertical-align: top;\n",
              "    }\n",
              "\n",
              "    .dataframe thead th {\n",
              "        text-align: right;\n",
              "    }\n",
              "</style>\n",
              "<table border=\"1\" class=\"dataframe\">\n",
              "  <thead>\n",
              "    <tr style=\"text-align: right;\">\n",
              "      <th></th>\n",
              "      <th>salt</th>\n",
              "      <th>spam</th>\n",
              "    </tr>\n",
              "    <tr>\n",
              "      <th>month</th>\n",
              "      <th></th>\n",
              "      <th></th>\n",
              "    </tr>\n",
              "  </thead>\n",
              "  <tbody>\n",
              "    <tr>\n",
              "      <th>Mar</th>\n",
              "      <td>89.0</td>\n",
              "      <td>72</td>\n",
              "    </tr>\n",
              "    <tr>\n",
              "      <th>Apr</th>\n",
              "      <td>87.0</td>\n",
              "      <td>20</td>\n",
              "    </tr>\n",
              "    <tr>\n",
              "      <th>May</th>\n",
              "      <td>NaN</td>\n",
              "      <td>52</td>\n",
              "    </tr>\n",
              "  </tbody>\n",
              "</table>\n",
              "</div>"
            ],
            "text/plain": [
              "       salt  spam\n",
              "month            \n",
              "Mar    89.0    72\n",
              "Apr    87.0    20\n",
              "May     NaN    52"
            ]
          },
          "metadata": {
            "tags": []
          },
          "execution_count": 204
        }
      ]
    },
    {
      "cell_type": "markdown",
      "metadata": {
        "id": "wPz7ceVx9cGI"
      },
      "source": [
        "Using lists rather than slices (1)"
      ]
    },
    {
      "cell_type": "code",
      "metadata": {
        "id": "O_pN0DOhU680",
        "colab": {
          "base_uri": "https://localhost:8080/",
          "height": 233
        },
        "outputId": "1b4773f4-743f-432a-bab8-03762ee0d965"
      },
      "source": [
        "df.loc['Jan':'May', ['eggs','salt']]   "
      ],
      "execution_count": null,
      "outputs": [
        {
          "output_type": "execute_result",
          "data": {
            "text/html": [
              "<div>\n",
              "<style scoped>\n",
              "    .dataframe tbody tr th:only-of-type {\n",
              "        vertical-align: middle;\n",
              "    }\n",
              "\n",
              "    .dataframe tbody tr th {\n",
              "        vertical-align: top;\n",
              "    }\n",
              "\n",
              "    .dataframe thead th {\n",
              "        text-align: right;\n",
              "    }\n",
              "</style>\n",
              "<table border=\"1\" class=\"dataframe\">\n",
              "  <thead>\n",
              "    <tr style=\"text-align: right;\">\n",
              "      <th></th>\n",
              "      <th>eggs</th>\n",
              "      <th>salt</th>\n",
              "    </tr>\n",
              "    <tr>\n",
              "      <th>month</th>\n",
              "      <th></th>\n",
              "      <th></th>\n",
              "    </tr>\n",
              "  </thead>\n",
              "  <tbody>\n",
              "    <tr>\n",
              "      <th>Jan</th>\n",
              "      <td>47</td>\n",
              "      <td>12.0</td>\n",
              "    </tr>\n",
              "    <tr>\n",
              "      <th>Feb</th>\n",
              "      <td>110</td>\n",
              "      <td>50.0</td>\n",
              "    </tr>\n",
              "    <tr>\n",
              "      <th>Mar</th>\n",
              "      <td>221</td>\n",
              "      <td>89.0</td>\n",
              "    </tr>\n",
              "    <tr>\n",
              "      <th>Apr</th>\n",
              "      <td>77</td>\n",
              "      <td>87.0</td>\n",
              "    </tr>\n",
              "    <tr>\n",
              "      <th>May</th>\n",
              "      <td>132</td>\n",
              "      <td>NaN</td>\n",
              "    </tr>\n",
              "  </tbody>\n",
              "</table>\n",
              "</div>"
            ],
            "text/plain": [
              "       eggs  salt\n",
              "month            \n",
              "Jan      47  12.0\n",
              "Feb     110  50.0\n",
              "Mar     221  89.0\n",
              "Apr      77  87.0\n",
              "May     132   NaN"
            ]
          },
          "metadata": {
            "tags": []
          },
          "execution_count": 205
        }
      ]
    },
    {
      "cell_type": "markdown",
      "metadata": {
        "id": "DjDyrqKc9XI5"
      },
      "source": [
        "Using lists rather than slices (2)"
      ]
    },
    {
      "cell_type": "code",
      "metadata": {
        "id": "np7x2qpjU-yx",
        "colab": {
          "base_uri": "https://localhost:8080/",
          "height": 172
        },
        "outputId": "34b348b4-fb2a-4a44-e684-a21881560c0e"
      },
      "source": [
        "df.iloc[[0,4,5], 0:2] "
      ],
      "execution_count": null,
      "outputs": [
        {
          "output_type": "execute_result",
          "data": {
            "text/html": [
              "<div>\n",
              "<style scoped>\n",
              "    .dataframe tbody tr th:only-of-type {\n",
              "        vertical-align: middle;\n",
              "    }\n",
              "\n",
              "    .dataframe tbody tr th {\n",
              "        vertical-align: top;\n",
              "    }\n",
              "\n",
              "    .dataframe thead th {\n",
              "        text-align: right;\n",
              "    }\n",
              "</style>\n",
              "<table border=\"1\" class=\"dataframe\">\n",
              "  <thead>\n",
              "    <tr style=\"text-align: right;\">\n",
              "      <th></th>\n",
              "      <th>eggs</th>\n",
              "      <th>salt</th>\n",
              "    </tr>\n",
              "    <tr>\n",
              "      <th>month</th>\n",
              "      <th></th>\n",
              "      <th></th>\n",
              "    </tr>\n",
              "  </thead>\n",
              "  <tbody>\n",
              "    <tr>\n",
              "      <th>Jan</th>\n",
              "      <td>47</td>\n",
              "      <td>12.0</td>\n",
              "    </tr>\n",
              "    <tr>\n",
              "      <th>May</th>\n",
              "      <td>132</td>\n",
              "      <td>NaN</td>\n",
              "    </tr>\n",
              "    <tr>\n",
              "      <th>Jun</th>\n",
              "      <td>205</td>\n",
              "      <td>60.0</td>\n",
              "    </tr>\n",
              "  </tbody>\n",
              "</table>\n",
              "</div>"
            ],
            "text/plain": [
              "       eggs  salt\n",
              "month            \n",
              "Jan      47  12.0\n",
              "May     132   NaN\n",
              "Jun     205  60.0"
            ]
          },
          "metadata": {
            "tags": []
          },
          "execution_count": 206
        }
      ]
    },
    {
      "cell_type": "markdown",
      "metadata": {
        "id": "Yj3lxSW1fRPN"
      },
      "source": [
        "Series versus 1-column DataFrame"
      ]
    },
    {
      "cell_type": "code",
      "metadata": {
        "id": "F_F9naGHRsfk",
        "colab": {
          "base_uri": "https://localhost:8080/"
        },
        "outputId": "c52e4b3a-51b9-4bf4-f67b-79a527a09f8a"
      },
      "source": [
        " df['eggs']\n",
        " "
      ],
      "execution_count": null,
      "outputs": [
        {
          "output_type": "execute_result",
          "data": {
            "text/plain": [
              "month\n",
              "Jan     47\n",
              "Feb    110\n",
              "Mar    221\n",
              "Apr     77\n",
              "May    132\n",
              "Jun    205\n",
              "Name: eggs, dtype: int64"
            ]
          },
          "metadata": {
            "tags": []
          },
          "execution_count": 207
        }
      ]
    },
    {
      "cell_type": "code",
      "metadata": {
        "id": "MSlXeykXABxc",
        "colab": {
          "base_uri": "https://localhost:8080/"
        },
        "outputId": "c5cfa8e8-a2a5-439f-ccc3-caa281991096"
      },
      "source": [
        "type(df['eggs'])"
      ],
      "execution_count": null,
      "outputs": [
        {
          "output_type": "execute_result",
          "data": {
            "text/plain": [
              "pandas.core.series.Series"
            ]
          },
          "metadata": {
            "tags": []
          },
          "execution_count": 208
        }
      ]
    },
    {
      "cell_type": "code",
      "metadata": {
        "id": "tOHNDB2CAEK2",
        "colab": {
          "base_uri": "https://localhost:8080/",
          "height": 264
        },
        "outputId": "f91abcc3-4602-4319-990c-acebdd73b4f4"
      },
      "source": [
        "df[['eggs']] "
      ],
      "execution_count": null,
      "outputs": [
        {
          "output_type": "execute_result",
          "data": {
            "text/html": [
              "<div>\n",
              "<style scoped>\n",
              "    .dataframe tbody tr th:only-of-type {\n",
              "        vertical-align: middle;\n",
              "    }\n",
              "\n",
              "    .dataframe tbody tr th {\n",
              "        vertical-align: top;\n",
              "    }\n",
              "\n",
              "    .dataframe thead th {\n",
              "        text-align: right;\n",
              "    }\n",
              "</style>\n",
              "<table border=\"1\" class=\"dataframe\">\n",
              "  <thead>\n",
              "    <tr style=\"text-align: right;\">\n",
              "      <th></th>\n",
              "      <th>eggs</th>\n",
              "    </tr>\n",
              "    <tr>\n",
              "      <th>month</th>\n",
              "      <th></th>\n",
              "    </tr>\n",
              "  </thead>\n",
              "  <tbody>\n",
              "    <tr>\n",
              "      <th>Jan</th>\n",
              "      <td>47</td>\n",
              "    </tr>\n",
              "    <tr>\n",
              "      <th>Feb</th>\n",
              "      <td>110</td>\n",
              "    </tr>\n",
              "    <tr>\n",
              "      <th>Mar</th>\n",
              "      <td>221</td>\n",
              "    </tr>\n",
              "    <tr>\n",
              "      <th>Apr</th>\n",
              "      <td>77</td>\n",
              "    </tr>\n",
              "    <tr>\n",
              "      <th>May</th>\n",
              "      <td>132</td>\n",
              "    </tr>\n",
              "    <tr>\n",
              "      <th>Jun</th>\n",
              "      <td>205</td>\n",
              "    </tr>\n",
              "  </tbody>\n",
              "</table>\n",
              "</div>"
            ],
            "text/plain": [
              "       eggs\n",
              "month      \n",
              "Jan      47\n",
              "Feb     110\n",
              "Mar     221\n",
              "Apr      77\n",
              "May     132\n",
              "Jun     205"
            ]
          },
          "metadata": {
            "tags": []
          },
          "execution_count": 209
        }
      ]
    },
    {
      "cell_type": "code",
      "metadata": {
        "id": "OYhpAieyAF6D",
        "colab": {
          "base_uri": "https://localhost:8080/"
        },
        "outputId": "8782a385-1330-486d-c7f8-81b4ca805e23"
      },
      "source": [
        "type(df[['eggs']]) "
      ],
      "execution_count": null,
      "outputs": [
        {
          "output_type": "execute_result",
          "data": {
            "text/plain": [
              "pandas.core.frame.DataFrame"
            ]
          },
          "metadata": {
            "tags": []
          },
          "execution_count": 210
        }
      ]
    },
    {
      "cell_type": "markdown",
      "metadata": {
        "id": "QlDZyg4DAT5W"
      },
      "source": [
        "#Filtering DataFrames"
      ]
    },
    {
      "cell_type": "markdown",
      "metadata": {
        "id": "TlT4TucIAX11"
      },
      "source": [
        "Creating a Boolean Series"
      ]
    },
    {
      "cell_type": "code",
      "metadata": {
        "id": "Xyn4TdeB1iwK",
        "colab": {
          "base_uri": "https://localhost:8080/",
          "height": 264
        },
        "outputId": "cde0920a-42fb-4622-94cf-6767e474e9cc"
      },
      "source": [
        "df\n",
        "\n"
      ],
      "execution_count": null,
      "outputs": [
        {
          "output_type": "execute_result",
          "data": {
            "text/html": [
              "<div>\n",
              "<style scoped>\n",
              "    .dataframe tbody tr th:only-of-type {\n",
              "        vertical-align: middle;\n",
              "    }\n",
              "\n",
              "    .dataframe tbody tr th {\n",
              "        vertical-align: top;\n",
              "    }\n",
              "\n",
              "    .dataframe thead th {\n",
              "        text-align: right;\n",
              "    }\n",
              "</style>\n",
              "<table border=\"1\" class=\"dataframe\">\n",
              "  <thead>\n",
              "    <tr style=\"text-align: right;\">\n",
              "      <th></th>\n",
              "      <th>eggs</th>\n",
              "      <th>salt</th>\n",
              "      <th>spam</th>\n",
              "    </tr>\n",
              "    <tr>\n",
              "      <th>month</th>\n",
              "      <th></th>\n",
              "      <th></th>\n",
              "      <th></th>\n",
              "    </tr>\n",
              "  </thead>\n",
              "  <tbody>\n",
              "    <tr>\n",
              "      <th>Jan</th>\n",
              "      <td>47</td>\n",
              "      <td>12.0</td>\n",
              "      <td>17</td>\n",
              "    </tr>\n",
              "    <tr>\n",
              "      <th>Feb</th>\n",
              "      <td>110</td>\n",
              "      <td>50.0</td>\n",
              "      <td>31</td>\n",
              "    </tr>\n",
              "    <tr>\n",
              "      <th>Mar</th>\n",
              "      <td>221</td>\n",
              "      <td>89.0</td>\n",
              "      <td>72</td>\n",
              "    </tr>\n",
              "    <tr>\n",
              "      <th>Apr</th>\n",
              "      <td>77</td>\n",
              "      <td>87.0</td>\n",
              "      <td>20</td>\n",
              "    </tr>\n",
              "    <tr>\n",
              "      <th>May</th>\n",
              "      <td>132</td>\n",
              "      <td>NaN</td>\n",
              "      <td>52</td>\n",
              "    </tr>\n",
              "    <tr>\n",
              "      <th>Jun</th>\n",
              "      <td>205</td>\n",
              "      <td>60.0</td>\n",
              "      <td>55</td>\n",
              "    </tr>\n",
              "  </tbody>\n",
              "</table>\n",
              "</div>"
            ],
            "text/plain": [
              "       eggs  salt  spam\n",
              "month                  \n",
              "Jan      47  12.0    17\n",
              "Feb     110  50.0    31\n",
              "Mar     221  89.0    72\n",
              "Apr      77  87.0    20\n",
              "May     132   NaN    52\n",
              "Jun     205  60.0    55"
            ]
          },
          "metadata": {
            "tags": []
          },
          "execution_count": 211
        }
      ]
    },
    {
      "cell_type": "code",
      "metadata": {
        "id": "1VHX5DJCAFuT",
        "colab": {
          "base_uri": "https://localhost:8080/"
        },
        "outputId": "1d77a68e-91ad-4149-b56e-d2185dfd824f"
      },
      "source": [
        "df['salt'] > 60\n"
      ],
      "execution_count": null,
      "outputs": [
        {
          "output_type": "execute_result",
          "data": {
            "text/plain": [
              "month\n",
              "Jan    False\n",
              "Feb    False\n",
              "Mar     True\n",
              "Apr     True\n",
              "May    False\n",
              "Jun    False\n",
              "Name: salt, dtype: bool"
            ]
          },
          "metadata": {
            "tags": []
          },
          "execution_count": 212
        }
      ]
    },
    {
      "cell_type": "markdown",
      "metadata": {
        "id": "9VYC2zUeAg77"
      },
      "source": [
        "Filtering with a Boolean Series"
      ]
    },
    {
      "cell_type": "code",
      "metadata": {
        "id": "Ys0Gt_jMA4PO",
        "colab": {
          "base_uri": "https://localhost:8080/"
        },
        "outputId": "61b220be-6e5d-4bbc-882a-4a3067503afc"
      },
      "source": [
        "df.salt > 60\n",
        "\n"
      ],
      "execution_count": null,
      "outputs": [
        {
          "output_type": "execute_result",
          "data": {
            "text/plain": [
              "month\n",
              "Jan    False\n",
              "Feb    False\n",
              "Mar     True\n",
              "Apr     True\n",
              "May    False\n",
              "Jun    False\n",
              "Name: salt, dtype: bool"
            ]
          },
          "metadata": {
            "tags": []
          },
          "execution_count": 213
        }
      ]
    },
    {
      "cell_type": "code",
      "metadata": {
        "id": "EzqCAuM0Am1f"
      },
      "source": [
        "a = df.salt > 60\n"
      ],
      "execution_count": null,
      "outputs": []
    },
    {
      "cell_type": "code",
      "metadata": {
        "id": "Ci6X2GyyAsro",
        "colab": {
          "base_uri": "https://localhost:8080/"
        },
        "outputId": "35697920-4556-4c51-dd1b-d8720592e1cd"
      },
      "source": [
        "type(a) #this is a series"
      ],
      "execution_count": null,
      "outputs": [
        {
          "output_type": "execute_result",
          "data": {
            "text/plain": [
              "pandas.core.series.Series"
            ]
          },
          "metadata": {
            "tags": []
          },
          "execution_count": 215
        }
      ]
    },
    {
      "cell_type": "code",
      "metadata": {
        "id": "KatUjuZh9S6s",
        "colab": {
          "base_uri": "https://localhost:8080/",
          "height": 141
        },
        "outputId": "783f4107-6078-4ea4-ab8f-1c0404d066d4"
      },
      "source": [
        "df[a]"
      ],
      "execution_count": null,
      "outputs": [
        {
          "output_type": "execute_result",
          "data": {
            "text/html": [
              "<div>\n",
              "<style scoped>\n",
              "    .dataframe tbody tr th:only-of-type {\n",
              "        vertical-align: middle;\n",
              "    }\n",
              "\n",
              "    .dataframe tbody tr th {\n",
              "        vertical-align: top;\n",
              "    }\n",
              "\n",
              "    .dataframe thead th {\n",
              "        text-align: right;\n",
              "    }\n",
              "</style>\n",
              "<table border=\"1\" class=\"dataframe\">\n",
              "  <thead>\n",
              "    <tr style=\"text-align: right;\">\n",
              "      <th></th>\n",
              "      <th>eggs</th>\n",
              "      <th>salt</th>\n",
              "      <th>spam</th>\n",
              "    </tr>\n",
              "    <tr>\n",
              "      <th>month</th>\n",
              "      <th></th>\n",
              "      <th></th>\n",
              "      <th></th>\n",
              "    </tr>\n",
              "  </thead>\n",
              "  <tbody>\n",
              "    <tr>\n",
              "      <th>Mar</th>\n",
              "      <td>221</td>\n",
              "      <td>89.0</td>\n",
              "      <td>72</td>\n",
              "    </tr>\n",
              "    <tr>\n",
              "      <th>Apr</th>\n",
              "      <td>77</td>\n",
              "      <td>87.0</td>\n",
              "      <td>20</td>\n",
              "    </tr>\n",
              "  </tbody>\n",
              "</table>\n",
              "</div>"
            ],
            "text/plain": [
              "       eggs  salt  spam\n",
              "month                  \n",
              "Mar     221  89.0    72\n",
              "Apr      77  87.0    20"
            ]
          },
          "metadata": {
            "tags": []
          },
          "execution_count": 216
        }
      ]
    },
    {
      "cell_type": "code",
      "metadata": {
        "id": "1hfTsm_6ArUM",
        "colab": {
          "base_uri": "https://localhost:8080/",
          "height": 141
        },
        "outputId": "d3b8096e-fc59-4c45-d56e-95d79f777ddc"
      },
      "source": [
        "df[df.salt>60]"
      ],
      "execution_count": null,
      "outputs": [
        {
          "output_type": "execute_result",
          "data": {
            "text/html": [
              "<div>\n",
              "<style scoped>\n",
              "    .dataframe tbody tr th:only-of-type {\n",
              "        vertical-align: middle;\n",
              "    }\n",
              "\n",
              "    .dataframe tbody tr th {\n",
              "        vertical-align: top;\n",
              "    }\n",
              "\n",
              "    .dataframe thead th {\n",
              "        text-align: right;\n",
              "    }\n",
              "</style>\n",
              "<table border=\"1\" class=\"dataframe\">\n",
              "  <thead>\n",
              "    <tr style=\"text-align: right;\">\n",
              "      <th></th>\n",
              "      <th>eggs</th>\n",
              "      <th>salt</th>\n",
              "      <th>spam</th>\n",
              "    </tr>\n",
              "    <tr>\n",
              "      <th>month</th>\n",
              "      <th></th>\n",
              "      <th></th>\n",
              "      <th></th>\n",
              "    </tr>\n",
              "  </thead>\n",
              "  <tbody>\n",
              "    <tr>\n",
              "      <th>Mar</th>\n",
              "      <td>221</td>\n",
              "      <td>89.0</td>\n",
              "      <td>72</td>\n",
              "    </tr>\n",
              "    <tr>\n",
              "      <th>Apr</th>\n",
              "      <td>77</td>\n",
              "      <td>87.0</td>\n",
              "      <td>20</td>\n",
              "    </tr>\n",
              "  </tbody>\n",
              "</table>\n",
              "</div>"
            ],
            "text/plain": [
              "       eggs  salt  spam\n",
              "month                  \n",
              "Mar     221  89.0    72\n",
              "Apr      77  87.0    20"
            ]
          },
          "metadata": {
            "tags": []
          },
          "execution_count": 217
        }
      ]
    },
    {
      "cell_type": "markdown",
      "metadata": {
        "id": "rtf4ioXyBGX3"
      },
      "source": [
        "Combining filters"
      ]
    },
    {
      "cell_type": "code",
      "metadata": {
        "id": "NZIb2-FIgiMy",
        "colab": {
          "base_uri": "https://localhost:8080/"
        },
        "outputId": "59065b3e-8337-4026-f237-b356eac751d1"
      },
      "source": [
        "(df.salt >= 50) & (df.eggs < 200)"
      ],
      "execution_count": null,
      "outputs": [
        {
          "output_type": "execute_result",
          "data": {
            "text/plain": [
              "month\n",
              "Jan    False\n",
              "Feb     True\n",
              "Mar    False\n",
              "Apr     True\n",
              "May    False\n",
              "Jun    False\n",
              "dtype: bool"
            ]
          },
          "metadata": {
            "tags": []
          },
          "execution_count": 245
        }
      ]
    },
    {
      "cell_type": "code",
      "metadata": {
        "id": "YA-cQw1OBHC8",
        "colab": {
          "base_uri": "https://localhost:8080/",
          "height": 141
        },
        "outputId": "155b2b88-3f03-4684-ab32-a1a250eb3250"
      },
      "source": [
        " df[(df.salt >= 50) & (df.eggs < 200)] # Both conditions"
      ],
      "execution_count": null,
      "outputs": [
        {
          "output_type": "execute_result",
          "data": {
            "text/html": [
              "<div>\n",
              "<style scoped>\n",
              "    .dataframe tbody tr th:only-of-type {\n",
              "        vertical-align: middle;\n",
              "    }\n",
              "\n",
              "    .dataframe tbody tr th {\n",
              "        vertical-align: top;\n",
              "    }\n",
              "\n",
              "    .dataframe thead th {\n",
              "        text-align: right;\n",
              "    }\n",
              "</style>\n",
              "<table border=\"1\" class=\"dataframe\">\n",
              "  <thead>\n",
              "    <tr style=\"text-align: right;\">\n",
              "      <th></th>\n",
              "      <th>eggs</th>\n",
              "      <th>salt</th>\n",
              "      <th>spam</th>\n",
              "    </tr>\n",
              "    <tr>\n",
              "      <th>month</th>\n",
              "      <th></th>\n",
              "      <th></th>\n",
              "      <th></th>\n",
              "    </tr>\n",
              "  </thead>\n",
              "  <tbody>\n",
              "    <tr>\n",
              "      <th>Feb</th>\n",
              "      <td>110</td>\n",
              "      <td>50.0</td>\n",
              "      <td>31</td>\n",
              "    </tr>\n",
              "    <tr>\n",
              "      <th>Apr</th>\n",
              "      <td>77</td>\n",
              "      <td>87.0</td>\n",
              "      <td>20</td>\n",
              "    </tr>\n",
              "  </tbody>\n",
              "</table>\n",
              "</div>"
            ],
            "text/plain": [
              "       eggs  salt  spam\n",
              "month                  \n",
              "Feb     110  50.0    31\n",
              "Apr      77  87.0    20"
            ]
          },
          "metadata": {
            "tags": []
          },
          "execution_count": 219
        }
      ]
    },
    {
      "cell_type": "code",
      "metadata": {
        "id": "IGik4CHlgpMH",
        "colab": {
          "base_uri": "https://localhost:8080/"
        },
        "outputId": "ed10aeb7-b53e-4f4c-ac08-7cfe763ea2b6"
      },
      "source": [
        "(df.salt >= 50) | (df.eggs < 200)"
      ],
      "execution_count": null,
      "outputs": [
        {
          "output_type": "execute_result",
          "data": {
            "text/plain": [
              "month\n",
              "Jan    True\n",
              "Feb    True\n",
              "Mar    True\n",
              "Apr    True\n",
              "May    True\n",
              "Jun    True\n",
              "dtype: bool"
            ]
          },
          "metadata": {
            "tags": []
          },
          "execution_count": 220
        }
      ]
    },
    {
      "cell_type": "code",
      "metadata": {
        "id": "OhE15OwfBMfF",
        "colab": {
          "base_uri": "https://localhost:8080/",
          "height": 264
        },
        "outputId": "e6bc1247-bdc2-4846-cea1-deda4b811e03"
      },
      "source": [
        " df[(df.salt >= 50) | (df.eggs < 200)] # Either condition"
      ],
      "execution_count": null,
      "outputs": [
        {
          "output_type": "execute_result",
          "data": {
            "text/html": [
              "<div>\n",
              "<style scoped>\n",
              "    .dataframe tbody tr th:only-of-type {\n",
              "        vertical-align: middle;\n",
              "    }\n",
              "\n",
              "    .dataframe tbody tr th {\n",
              "        vertical-align: top;\n",
              "    }\n",
              "\n",
              "    .dataframe thead th {\n",
              "        text-align: right;\n",
              "    }\n",
              "</style>\n",
              "<table border=\"1\" class=\"dataframe\">\n",
              "  <thead>\n",
              "    <tr style=\"text-align: right;\">\n",
              "      <th></th>\n",
              "      <th>eggs</th>\n",
              "      <th>salt</th>\n",
              "      <th>spam</th>\n",
              "    </tr>\n",
              "    <tr>\n",
              "      <th>month</th>\n",
              "      <th></th>\n",
              "      <th></th>\n",
              "      <th></th>\n",
              "    </tr>\n",
              "  </thead>\n",
              "  <tbody>\n",
              "    <tr>\n",
              "      <th>Jan</th>\n",
              "      <td>47</td>\n",
              "      <td>12.0</td>\n",
              "      <td>17</td>\n",
              "    </tr>\n",
              "    <tr>\n",
              "      <th>Feb</th>\n",
              "      <td>110</td>\n",
              "      <td>50.0</td>\n",
              "      <td>31</td>\n",
              "    </tr>\n",
              "    <tr>\n",
              "      <th>Mar</th>\n",
              "      <td>221</td>\n",
              "      <td>89.0</td>\n",
              "      <td>72</td>\n",
              "    </tr>\n",
              "    <tr>\n",
              "      <th>Apr</th>\n",
              "      <td>77</td>\n",
              "      <td>87.0</td>\n",
              "      <td>20</td>\n",
              "    </tr>\n",
              "    <tr>\n",
              "      <th>May</th>\n",
              "      <td>132</td>\n",
              "      <td>NaN</td>\n",
              "      <td>52</td>\n",
              "    </tr>\n",
              "    <tr>\n",
              "      <th>Jun</th>\n",
              "      <td>205</td>\n",
              "      <td>60.0</td>\n",
              "      <td>55</td>\n",
              "    </tr>\n",
              "  </tbody>\n",
              "</table>\n",
              "</div>"
            ],
            "text/plain": [
              "       eggs  salt  spam\n",
              "month                  \n",
              "Jan      47  12.0    17\n",
              "Feb     110  50.0    31\n",
              "Mar     221  89.0    72\n",
              "Apr      77  87.0    20\n",
              "May     132   NaN    52\n",
              "Jun     205  60.0    55"
            ]
          },
          "metadata": {
            "tags": []
          },
          "execution_count": 221
        }
      ]
    },
    {
      "cell_type": "markdown",
      "metadata": {
        "id": "-rOpVDMkHu7o"
      },
      "source": [
        "#DataFrame Append"
      ]
    },
    {
      "cell_type": "code",
      "metadata": {
        "id": "yMn11H4oBU71",
        "colab": {
          "base_uri": "https://localhost:8080/",
          "height": 264
        },
        "outputId": "0347a2d8-4fcd-4043-a899-4a428ec7f06b"
      },
      "source": [
        "df2 = df.copy()\n",
        "df2"
      ],
      "execution_count": null,
      "outputs": [
        {
          "output_type": "execute_result",
          "data": {
            "text/html": [
              "<div>\n",
              "<style scoped>\n",
              "    .dataframe tbody tr th:only-of-type {\n",
              "        vertical-align: middle;\n",
              "    }\n",
              "\n",
              "    .dataframe tbody tr th {\n",
              "        vertical-align: top;\n",
              "    }\n",
              "\n",
              "    .dataframe thead th {\n",
              "        text-align: right;\n",
              "    }\n",
              "</style>\n",
              "<table border=\"1\" class=\"dataframe\">\n",
              "  <thead>\n",
              "    <tr style=\"text-align: right;\">\n",
              "      <th></th>\n",
              "      <th>eggs</th>\n",
              "      <th>salt</th>\n",
              "      <th>spam</th>\n",
              "    </tr>\n",
              "    <tr>\n",
              "      <th>month</th>\n",
              "      <th></th>\n",
              "      <th></th>\n",
              "      <th></th>\n",
              "    </tr>\n",
              "  </thead>\n",
              "  <tbody>\n",
              "    <tr>\n",
              "      <th>Jan</th>\n",
              "      <td>47</td>\n",
              "      <td>12.0</td>\n",
              "      <td>17</td>\n",
              "    </tr>\n",
              "    <tr>\n",
              "      <th>Feb</th>\n",
              "      <td>110</td>\n",
              "      <td>50.0</td>\n",
              "      <td>31</td>\n",
              "    </tr>\n",
              "    <tr>\n",
              "      <th>Mar</th>\n",
              "      <td>221</td>\n",
              "      <td>89.0</td>\n",
              "      <td>72</td>\n",
              "    </tr>\n",
              "    <tr>\n",
              "      <th>Apr</th>\n",
              "      <td>77</td>\n",
              "      <td>87.0</td>\n",
              "      <td>20</td>\n",
              "    </tr>\n",
              "    <tr>\n",
              "      <th>May</th>\n",
              "      <td>132</td>\n",
              "      <td>NaN</td>\n",
              "      <td>52</td>\n",
              "    </tr>\n",
              "    <tr>\n",
              "      <th>Jun</th>\n",
              "      <td>205</td>\n",
              "      <td>60.0</td>\n",
              "      <td>55</td>\n",
              "    </tr>\n",
              "  </tbody>\n",
              "</table>\n",
              "</div>"
            ],
            "text/plain": [
              "       eggs  salt  spam\n",
              "month                  \n",
              "Jan      47  12.0    17\n",
              "Feb     110  50.0    31\n",
              "Mar     221  89.0    72\n",
              "Apr      77  87.0    20\n",
              "May     132   NaN    52\n",
              "Jun     205  60.0    55"
            ]
          },
          "metadata": {
            "tags": []
          },
          "execution_count": 222
        }
      ]
    },
    {
      "cell_type": "code",
      "metadata": {
        "id": "4k1GlJowBRGo",
        "colab": {
          "base_uri": "https://localhost:8080/",
          "height": 264
        },
        "outputId": "1fb03aff-c4b9-4f4f-a6e6-7a15508a06a9"
      },
      "source": [
        " df2['bacon']=[0,0,60,0,90,100]\n",
        " df2"
      ],
      "execution_count": null,
      "outputs": [
        {
          "output_type": "execute_result",
          "data": {
            "text/html": [
              "<div>\n",
              "<style scoped>\n",
              "    .dataframe tbody tr th:only-of-type {\n",
              "        vertical-align: middle;\n",
              "    }\n",
              "\n",
              "    .dataframe tbody tr th {\n",
              "        vertical-align: top;\n",
              "    }\n",
              "\n",
              "    .dataframe thead th {\n",
              "        text-align: right;\n",
              "    }\n",
              "</style>\n",
              "<table border=\"1\" class=\"dataframe\">\n",
              "  <thead>\n",
              "    <tr style=\"text-align: right;\">\n",
              "      <th></th>\n",
              "      <th>eggs</th>\n",
              "      <th>salt</th>\n",
              "      <th>spam</th>\n",
              "      <th>bacon</th>\n",
              "    </tr>\n",
              "    <tr>\n",
              "      <th>month</th>\n",
              "      <th></th>\n",
              "      <th></th>\n",
              "      <th></th>\n",
              "      <th></th>\n",
              "    </tr>\n",
              "  </thead>\n",
              "  <tbody>\n",
              "    <tr>\n",
              "      <th>Jan</th>\n",
              "      <td>47</td>\n",
              "      <td>12.0</td>\n",
              "      <td>17</td>\n",
              "      <td>0</td>\n",
              "    </tr>\n",
              "    <tr>\n",
              "      <th>Feb</th>\n",
              "      <td>110</td>\n",
              "      <td>50.0</td>\n",
              "      <td>31</td>\n",
              "      <td>0</td>\n",
              "    </tr>\n",
              "    <tr>\n",
              "      <th>Mar</th>\n",
              "      <td>221</td>\n",
              "      <td>89.0</td>\n",
              "      <td>72</td>\n",
              "      <td>60</td>\n",
              "    </tr>\n",
              "    <tr>\n",
              "      <th>Apr</th>\n",
              "      <td>77</td>\n",
              "      <td>87.0</td>\n",
              "      <td>20</td>\n",
              "      <td>0</td>\n",
              "    </tr>\n",
              "    <tr>\n",
              "      <th>May</th>\n",
              "      <td>132</td>\n",
              "      <td>NaN</td>\n",
              "      <td>52</td>\n",
              "      <td>90</td>\n",
              "    </tr>\n",
              "    <tr>\n",
              "      <th>Jun</th>\n",
              "      <td>205</td>\n",
              "      <td>60.0</td>\n",
              "      <td>55</td>\n",
              "      <td>100</td>\n",
              "    </tr>\n",
              "  </tbody>\n",
              "</table>\n",
              "</div>"
            ],
            "text/plain": [
              "       eggs  salt  spam  bacon\n",
              "month                         \n",
              "Jan      47  12.0    17      0\n",
              "Feb     110  50.0    31      0\n",
              "Mar     221  89.0    72     60\n",
              "Apr      77  87.0    20      0\n",
              "May     132   NaN    52     90\n",
              "Jun     205  60.0    55    100"
            ]
          },
          "metadata": {
            "tags": []
          },
          "execution_count": 223
        }
      ]
    },
    {
      "cell_type": "code",
      "metadata": {
        "id": "n4nAiGjWFOX7",
        "colab": {
          "base_uri": "https://localhost:8080/",
          "height": 264
        },
        "outputId": "7795e00b-87f5-450f-f1dc-3fbb2f9a22df"
      },
      "source": [
        "df3=df2.copy()\n",
        "df3\n"
      ],
      "execution_count": null,
      "outputs": [
        {
          "output_type": "execute_result",
          "data": {
            "text/html": [
              "<div>\n",
              "<style scoped>\n",
              "    .dataframe tbody tr th:only-of-type {\n",
              "        vertical-align: middle;\n",
              "    }\n",
              "\n",
              "    .dataframe tbody tr th {\n",
              "        vertical-align: top;\n",
              "    }\n",
              "\n",
              "    .dataframe thead th {\n",
              "        text-align: right;\n",
              "    }\n",
              "</style>\n",
              "<table border=\"1\" class=\"dataframe\">\n",
              "  <thead>\n",
              "    <tr style=\"text-align: right;\">\n",
              "      <th></th>\n",
              "      <th>eggs</th>\n",
              "      <th>salt</th>\n",
              "      <th>spam</th>\n",
              "      <th>bacon</th>\n",
              "    </tr>\n",
              "    <tr>\n",
              "      <th>month</th>\n",
              "      <th></th>\n",
              "      <th></th>\n",
              "      <th></th>\n",
              "      <th></th>\n",
              "    </tr>\n",
              "  </thead>\n",
              "  <tbody>\n",
              "    <tr>\n",
              "      <th>Jan</th>\n",
              "      <td>47</td>\n",
              "      <td>12.0</td>\n",
              "      <td>17</td>\n",
              "      <td>0</td>\n",
              "    </tr>\n",
              "    <tr>\n",
              "      <th>Feb</th>\n",
              "      <td>110</td>\n",
              "      <td>50.0</td>\n",
              "      <td>31</td>\n",
              "      <td>0</td>\n",
              "    </tr>\n",
              "    <tr>\n",
              "      <th>Mar</th>\n",
              "      <td>221</td>\n",
              "      <td>89.0</td>\n",
              "      <td>72</td>\n",
              "      <td>60</td>\n",
              "    </tr>\n",
              "    <tr>\n",
              "      <th>Apr</th>\n",
              "      <td>77</td>\n",
              "      <td>87.0</td>\n",
              "      <td>20</td>\n",
              "      <td>0</td>\n",
              "    </tr>\n",
              "    <tr>\n",
              "      <th>May</th>\n",
              "      <td>132</td>\n",
              "      <td>NaN</td>\n",
              "      <td>52</td>\n",
              "      <td>90</td>\n",
              "    </tr>\n",
              "    <tr>\n",
              "      <th>Jun</th>\n",
              "      <td>205</td>\n",
              "      <td>60.0</td>\n",
              "      <td>55</td>\n",
              "      <td>100</td>\n",
              "    </tr>\n",
              "  </tbody>\n",
              "</table>\n",
              "</div>"
            ],
            "text/plain": [
              "       eggs  salt  spam  bacon\n",
              "month                         \n",
              "Jan      47  12.0    17      0\n",
              "Feb     110  50.0    31      0\n",
              "Mar     221  89.0    72     60\n",
              "Apr      77  87.0    20      0\n",
              "May     132   NaN    52     90\n",
              "Jun     205  60.0    55    100"
            ]
          },
          "metadata": {
            "tags": []
          },
          "execution_count": 224
        }
      ]
    },
    {
      "cell_type": "code",
      "metadata": {
        "id": "FeK0n0fZFY2q",
        "colab": {
          "base_uri": "https://localhost:8080/",
          "height": 141
        },
        "outputId": "f11e0325-8411-4e12-9190-d6311d0514f1"
      },
      "source": [
        "other = pd.DataFrame({'eggs': ['K0', 'K1', 'K2'],\n",
        "                      'salt': ['b10', 'b20', 'b50'],\n",
        "                      'spam': ['s1', 's2', 's3'],\n",
        "                      'bacon': ['bc0', 'bc1', 'cb2']},index=[\"July\", \"Aug\", \"Sept\"])\n",
        "other"
      ],
      "execution_count": null,
      "outputs": [
        {
          "output_type": "execute_result",
          "data": {
            "text/html": [
              "<div>\n",
              "<style scoped>\n",
              "    .dataframe tbody tr th:only-of-type {\n",
              "        vertical-align: middle;\n",
              "    }\n",
              "\n",
              "    .dataframe tbody tr th {\n",
              "        vertical-align: top;\n",
              "    }\n",
              "\n",
              "    .dataframe thead th {\n",
              "        text-align: right;\n",
              "    }\n",
              "</style>\n",
              "<table border=\"1\" class=\"dataframe\">\n",
              "  <thead>\n",
              "    <tr style=\"text-align: right;\">\n",
              "      <th></th>\n",
              "      <th>eggs</th>\n",
              "      <th>salt</th>\n",
              "      <th>spam</th>\n",
              "      <th>bacon</th>\n",
              "    </tr>\n",
              "  </thead>\n",
              "  <tbody>\n",
              "    <tr>\n",
              "      <th>July</th>\n",
              "      <td>K0</td>\n",
              "      <td>b10</td>\n",
              "      <td>s1</td>\n",
              "      <td>bc0</td>\n",
              "    </tr>\n",
              "    <tr>\n",
              "      <th>Aug</th>\n",
              "      <td>K1</td>\n",
              "      <td>b20</td>\n",
              "      <td>s2</td>\n",
              "      <td>bc1</td>\n",
              "    </tr>\n",
              "    <tr>\n",
              "      <th>Sept</th>\n",
              "      <td>K2</td>\n",
              "      <td>b50</td>\n",
              "      <td>s3</td>\n",
              "      <td>cb2</td>\n",
              "    </tr>\n",
              "  </tbody>\n",
              "</table>\n",
              "</div>"
            ],
            "text/plain": [
              "     eggs salt spam bacon\n",
              "July   K0  b10   s1   bc0\n",
              "Aug    K1  b20   s2   bc1\n",
              "Sept   K2  b50   s3   cb2"
            ]
          },
          "metadata": {
            "tags": []
          },
          "execution_count": 225
        }
      ]
    },
    {
      "cell_type": "code",
      "metadata": {
        "id": "8dnDj1ruGKsT",
        "colab": {
          "base_uri": "https://localhost:8080/",
          "height": 326
        },
        "outputId": "3feb334e-ad43-487f-e839-762fabb528de"
      },
      "source": [
        "df2.append(other)"
      ],
      "execution_count": null,
      "outputs": [
        {
          "output_type": "execute_result",
          "data": {
            "text/html": [
              "<div>\n",
              "<style scoped>\n",
              "    .dataframe tbody tr th:only-of-type {\n",
              "        vertical-align: middle;\n",
              "    }\n",
              "\n",
              "    .dataframe tbody tr th {\n",
              "        vertical-align: top;\n",
              "    }\n",
              "\n",
              "    .dataframe thead th {\n",
              "        text-align: right;\n",
              "    }\n",
              "</style>\n",
              "<table border=\"1\" class=\"dataframe\">\n",
              "  <thead>\n",
              "    <tr style=\"text-align: right;\">\n",
              "      <th></th>\n",
              "      <th>eggs</th>\n",
              "      <th>salt</th>\n",
              "      <th>spam</th>\n",
              "      <th>bacon</th>\n",
              "    </tr>\n",
              "  </thead>\n",
              "  <tbody>\n",
              "    <tr>\n",
              "      <th>Jan</th>\n",
              "      <td>47</td>\n",
              "      <td>12</td>\n",
              "      <td>17</td>\n",
              "      <td>0</td>\n",
              "    </tr>\n",
              "    <tr>\n",
              "      <th>Feb</th>\n",
              "      <td>110</td>\n",
              "      <td>50</td>\n",
              "      <td>31</td>\n",
              "      <td>0</td>\n",
              "    </tr>\n",
              "    <tr>\n",
              "      <th>Mar</th>\n",
              "      <td>221</td>\n",
              "      <td>89</td>\n",
              "      <td>72</td>\n",
              "      <td>60</td>\n",
              "    </tr>\n",
              "    <tr>\n",
              "      <th>Apr</th>\n",
              "      <td>77</td>\n",
              "      <td>87</td>\n",
              "      <td>20</td>\n",
              "      <td>0</td>\n",
              "    </tr>\n",
              "    <tr>\n",
              "      <th>May</th>\n",
              "      <td>132</td>\n",
              "      <td>NaN</td>\n",
              "      <td>52</td>\n",
              "      <td>90</td>\n",
              "    </tr>\n",
              "    <tr>\n",
              "      <th>Jun</th>\n",
              "      <td>205</td>\n",
              "      <td>60</td>\n",
              "      <td>55</td>\n",
              "      <td>100</td>\n",
              "    </tr>\n",
              "    <tr>\n",
              "      <th>July</th>\n",
              "      <td>K0</td>\n",
              "      <td>b10</td>\n",
              "      <td>s1</td>\n",
              "      <td>bc0</td>\n",
              "    </tr>\n",
              "    <tr>\n",
              "      <th>Aug</th>\n",
              "      <td>K1</td>\n",
              "      <td>b20</td>\n",
              "      <td>s2</td>\n",
              "      <td>bc1</td>\n",
              "    </tr>\n",
              "    <tr>\n",
              "      <th>Sept</th>\n",
              "      <td>K2</td>\n",
              "      <td>b50</td>\n",
              "      <td>s3</td>\n",
              "      <td>cb2</td>\n",
              "    </tr>\n",
              "  </tbody>\n",
              "</table>\n",
              "</div>"
            ],
            "text/plain": [
              "     eggs salt spam bacon\n",
              "Jan    47   12   17     0\n",
              "Feb   110   50   31     0\n",
              "Mar   221   89   72    60\n",
              "Apr    77   87   20     0\n",
              "May   132  NaN   52    90\n",
              "Jun   205   60   55   100\n",
              "July   K0  b10   s1   bc0\n",
              "Aug    K1  b20   s2   bc1\n",
              "Sept   K2  b50   s3   cb2"
            ]
          },
          "metadata": {
            "tags": []
          },
          "execution_count": 226
        }
      ]
    },
    {
      "cell_type": "code",
      "metadata": {
        "id": "4eQ0JWxu5koM",
        "colab": {
          "base_uri": "https://localhost:8080/",
          "height": 264
        },
        "outputId": "632af61c-224a-4db4-b37b-81053b4b1847"
      },
      "source": [
        "df3"
      ],
      "execution_count": null,
      "outputs": [
        {
          "output_type": "execute_result",
          "data": {
            "text/html": [
              "<div>\n",
              "<style scoped>\n",
              "    .dataframe tbody tr th:only-of-type {\n",
              "        vertical-align: middle;\n",
              "    }\n",
              "\n",
              "    .dataframe tbody tr th {\n",
              "        vertical-align: top;\n",
              "    }\n",
              "\n",
              "    .dataframe thead th {\n",
              "        text-align: right;\n",
              "    }\n",
              "</style>\n",
              "<table border=\"1\" class=\"dataframe\">\n",
              "  <thead>\n",
              "    <tr style=\"text-align: right;\">\n",
              "      <th></th>\n",
              "      <th>eggs</th>\n",
              "      <th>salt</th>\n",
              "      <th>spam</th>\n",
              "      <th>bacon</th>\n",
              "    </tr>\n",
              "    <tr>\n",
              "      <th>month</th>\n",
              "      <th></th>\n",
              "      <th></th>\n",
              "      <th></th>\n",
              "      <th></th>\n",
              "    </tr>\n",
              "  </thead>\n",
              "  <tbody>\n",
              "    <tr>\n",
              "      <th>Jan</th>\n",
              "      <td>47</td>\n",
              "      <td>12.0</td>\n",
              "      <td>17</td>\n",
              "      <td>0</td>\n",
              "    </tr>\n",
              "    <tr>\n",
              "      <th>Feb</th>\n",
              "      <td>110</td>\n",
              "      <td>50.0</td>\n",
              "      <td>31</td>\n",
              "      <td>0</td>\n",
              "    </tr>\n",
              "    <tr>\n",
              "      <th>Mar</th>\n",
              "      <td>221</td>\n",
              "      <td>89.0</td>\n",
              "      <td>72</td>\n",
              "      <td>60</td>\n",
              "    </tr>\n",
              "    <tr>\n",
              "      <th>Apr</th>\n",
              "      <td>77</td>\n",
              "      <td>87.0</td>\n",
              "      <td>20</td>\n",
              "      <td>0</td>\n",
              "    </tr>\n",
              "    <tr>\n",
              "      <th>May</th>\n",
              "      <td>132</td>\n",
              "      <td>NaN</td>\n",
              "      <td>52</td>\n",
              "      <td>90</td>\n",
              "    </tr>\n",
              "    <tr>\n",
              "      <th>Jun</th>\n",
              "      <td>205</td>\n",
              "      <td>60.0</td>\n",
              "      <td>55</td>\n",
              "      <td>100</td>\n",
              "    </tr>\n",
              "  </tbody>\n",
              "</table>\n",
              "</div>"
            ],
            "text/plain": [
              "       eggs  salt  spam  bacon\n",
              "month                         \n",
              "Jan      47  12.0    17      0\n",
              "Feb     110  50.0    31      0\n",
              "Mar     221  89.0    72     60\n",
              "Apr      77  87.0    20      0\n",
              "May     132   NaN    52     90\n",
              "Jun     205  60.0    55    100"
            ]
          },
          "metadata": {
            "tags": []
          },
          "execution_count": 227
        }
      ]
    },
    {
      "cell_type": "code",
      "metadata": {
        "id": "I0gHMWziPhid",
        "colab": {
          "base_uri": "https://localhost:8080/",
          "height": 264
        },
        "outputId": "46c948d5-b30e-417f-fe39-9fa0bc48855f"
      },
      "source": [
        "df3.columns=['X', 'Y', 'Z','T']\n",
        "df3\n"
      ],
      "execution_count": null,
      "outputs": [
        {
          "output_type": "execute_result",
          "data": {
            "text/html": [
              "<div>\n",
              "<style scoped>\n",
              "    .dataframe tbody tr th:only-of-type {\n",
              "        vertical-align: middle;\n",
              "    }\n",
              "\n",
              "    .dataframe tbody tr th {\n",
              "        vertical-align: top;\n",
              "    }\n",
              "\n",
              "    .dataframe thead th {\n",
              "        text-align: right;\n",
              "    }\n",
              "</style>\n",
              "<table border=\"1\" class=\"dataframe\">\n",
              "  <thead>\n",
              "    <tr style=\"text-align: right;\">\n",
              "      <th></th>\n",
              "      <th>X</th>\n",
              "      <th>Y</th>\n",
              "      <th>Z</th>\n",
              "      <th>T</th>\n",
              "    </tr>\n",
              "    <tr>\n",
              "      <th>month</th>\n",
              "      <th></th>\n",
              "      <th></th>\n",
              "      <th></th>\n",
              "      <th></th>\n",
              "    </tr>\n",
              "  </thead>\n",
              "  <tbody>\n",
              "    <tr>\n",
              "      <th>Jan</th>\n",
              "      <td>47</td>\n",
              "      <td>12.0</td>\n",
              "      <td>17</td>\n",
              "      <td>0</td>\n",
              "    </tr>\n",
              "    <tr>\n",
              "      <th>Feb</th>\n",
              "      <td>110</td>\n",
              "      <td>50.0</td>\n",
              "      <td>31</td>\n",
              "      <td>0</td>\n",
              "    </tr>\n",
              "    <tr>\n",
              "      <th>Mar</th>\n",
              "      <td>221</td>\n",
              "      <td>89.0</td>\n",
              "      <td>72</td>\n",
              "      <td>60</td>\n",
              "    </tr>\n",
              "    <tr>\n",
              "      <th>Apr</th>\n",
              "      <td>77</td>\n",
              "      <td>87.0</td>\n",
              "      <td>20</td>\n",
              "      <td>0</td>\n",
              "    </tr>\n",
              "    <tr>\n",
              "      <th>May</th>\n",
              "      <td>132</td>\n",
              "      <td>NaN</td>\n",
              "      <td>52</td>\n",
              "      <td>90</td>\n",
              "    </tr>\n",
              "    <tr>\n",
              "      <th>Jun</th>\n",
              "      <td>205</td>\n",
              "      <td>60.0</td>\n",
              "      <td>55</td>\n",
              "      <td>100</td>\n",
              "    </tr>\n",
              "  </tbody>\n",
              "</table>\n",
              "</div>"
            ],
            "text/plain": [
              "         X     Y   Z    T\n",
              "month                    \n",
              "Jan     47  12.0  17    0\n",
              "Feb    110  50.0  31    0\n",
              "Mar    221  89.0  72   60\n",
              "Apr     77  87.0  20    0\n",
              "May    132   NaN  52   90\n",
              "Jun    205  60.0  55  100"
            ]
          },
          "metadata": {
            "tags": []
          },
          "execution_count": 228
        }
      ]
    },
    {
      "cell_type": "code",
      "metadata": {
        "id": "luiUVqY37UuR",
        "colab": {
          "base_uri": "https://localhost:8080/",
          "height": 264
        },
        "outputId": "c0a503cd-b277-4658-bd57-40cf4ffad6b8"
      },
      "source": [
        "df3.drop(\"T\",axis=1,inplace=True)\n",
        "df3"
      ],
      "execution_count": null,
      "outputs": [
        {
          "output_type": "execute_result",
          "data": {
            "text/html": [
              "<div>\n",
              "<style scoped>\n",
              "    .dataframe tbody tr th:only-of-type {\n",
              "        vertical-align: middle;\n",
              "    }\n",
              "\n",
              "    .dataframe tbody tr th {\n",
              "        vertical-align: top;\n",
              "    }\n",
              "\n",
              "    .dataframe thead th {\n",
              "        text-align: right;\n",
              "    }\n",
              "</style>\n",
              "<table border=\"1\" class=\"dataframe\">\n",
              "  <thead>\n",
              "    <tr style=\"text-align: right;\">\n",
              "      <th></th>\n",
              "      <th>X</th>\n",
              "      <th>Y</th>\n",
              "      <th>Z</th>\n",
              "    </tr>\n",
              "    <tr>\n",
              "      <th>month</th>\n",
              "      <th></th>\n",
              "      <th></th>\n",
              "      <th></th>\n",
              "    </tr>\n",
              "  </thead>\n",
              "  <tbody>\n",
              "    <tr>\n",
              "      <th>Jan</th>\n",
              "      <td>47</td>\n",
              "      <td>12.0</td>\n",
              "      <td>17</td>\n",
              "    </tr>\n",
              "    <tr>\n",
              "      <th>Feb</th>\n",
              "      <td>110</td>\n",
              "      <td>50.0</td>\n",
              "      <td>31</td>\n",
              "    </tr>\n",
              "    <tr>\n",
              "      <th>Mar</th>\n",
              "      <td>221</td>\n",
              "      <td>89.0</td>\n",
              "      <td>72</td>\n",
              "    </tr>\n",
              "    <tr>\n",
              "      <th>Apr</th>\n",
              "      <td>77</td>\n",
              "      <td>87.0</td>\n",
              "      <td>20</td>\n",
              "    </tr>\n",
              "    <tr>\n",
              "      <th>May</th>\n",
              "      <td>132</td>\n",
              "      <td>NaN</td>\n",
              "      <td>52</td>\n",
              "    </tr>\n",
              "    <tr>\n",
              "      <th>Jun</th>\n",
              "      <td>205</td>\n",
              "      <td>60.0</td>\n",
              "      <td>55</td>\n",
              "    </tr>\n",
              "  </tbody>\n",
              "</table>\n",
              "</div>"
            ],
            "text/plain": [
              "         X     Y   Z\n",
              "month               \n",
              "Jan     47  12.0  17\n",
              "Feb    110  50.0  31\n",
              "Mar    221  89.0  72\n",
              "Apr     77  87.0  20\n",
              "May    132   NaN  52\n",
              "Jun    205  60.0  55"
            ]
          },
          "metadata": {
            "tags": []
          },
          "execution_count": 229
        }
      ]
    },
    {
      "cell_type": "markdown",
      "metadata": {
        "id": "7ozVa82XBT-U"
      },
      "source": [
        "#DataFrames with zeros and NaNs"
      ]
    },
    {
      "cell_type": "markdown",
      "metadata": {
        "id": "Ne0m0d2uBirW"
      },
      "source": [
        "Select columns with all nonzeros"
      ]
    },
    {
      "cell_type": "code",
      "metadata": {
        "id": "IrviDPCT2pjr",
        "colab": {
          "base_uri": "https://localhost:8080/",
          "height": 264
        },
        "outputId": "ef276c14-9758-48ae-ad6d-1199d3f9e30e"
      },
      "source": [
        "df\n"
      ],
      "execution_count": null,
      "outputs": [
        {
          "output_type": "execute_result",
          "data": {
            "text/html": [
              "<div>\n",
              "<style scoped>\n",
              "    .dataframe tbody tr th:only-of-type {\n",
              "        vertical-align: middle;\n",
              "    }\n",
              "\n",
              "    .dataframe tbody tr th {\n",
              "        vertical-align: top;\n",
              "    }\n",
              "\n",
              "    .dataframe thead th {\n",
              "        text-align: right;\n",
              "    }\n",
              "</style>\n",
              "<table border=\"1\" class=\"dataframe\">\n",
              "  <thead>\n",
              "    <tr style=\"text-align: right;\">\n",
              "      <th></th>\n",
              "      <th>eggs</th>\n",
              "      <th>salt</th>\n",
              "      <th>spam</th>\n",
              "    </tr>\n",
              "    <tr>\n",
              "      <th>month</th>\n",
              "      <th></th>\n",
              "      <th></th>\n",
              "      <th></th>\n",
              "    </tr>\n",
              "  </thead>\n",
              "  <tbody>\n",
              "    <tr>\n",
              "      <th>Jan</th>\n",
              "      <td>47</td>\n",
              "      <td>12.0</td>\n",
              "      <td>17</td>\n",
              "    </tr>\n",
              "    <tr>\n",
              "      <th>Feb</th>\n",
              "      <td>110</td>\n",
              "      <td>50.0</td>\n",
              "      <td>31</td>\n",
              "    </tr>\n",
              "    <tr>\n",
              "      <th>Mar</th>\n",
              "      <td>221</td>\n",
              "      <td>89.0</td>\n",
              "      <td>72</td>\n",
              "    </tr>\n",
              "    <tr>\n",
              "      <th>Apr</th>\n",
              "      <td>77</td>\n",
              "      <td>87.0</td>\n",
              "      <td>20</td>\n",
              "    </tr>\n",
              "    <tr>\n",
              "      <th>May</th>\n",
              "      <td>132</td>\n",
              "      <td>NaN</td>\n",
              "      <td>52</td>\n",
              "    </tr>\n",
              "    <tr>\n",
              "      <th>Jun</th>\n",
              "      <td>205</td>\n",
              "      <td>60.0</td>\n",
              "      <td>55</td>\n",
              "    </tr>\n",
              "  </tbody>\n",
              "</table>\n",
              "</div>"
            ],
            "text/plain": [
              "       eggs  salt  spam\n",
              "month                  \n",
              "Jan      47  12.0    17\n",
              "Feb     110  50.0    31\n",
              "Mar     221  89.0    72\n",
              "Apr      77  87.0    20\n",
              "May     132   NaN    52\n",
              "Jun     205  60.0    55"
            ]
          },
          "metadata": {
            "tags": []
          },
          "execution_count": 230
        }
      ]
    },
    {
      "cell_type": "code",
      "metadata": {
        "id": "tEw0RYNEBRFo",
        "colab": {
          "base_uri": "https://localhost:8080/"
        },
        "outputId": "6f7ce112-dac0-4727-89a6-a93279a27e6f"
      },
      "source": [
        "\n",
        "df['bacon']=[0,0,0,0,0,1]\n",
        "df['bacon'].any()"
      ],
      "execution_count": null,
      "outputs": [
        {
          "output_type": "execute_result",
          "data": {
            "text/plain": [
              "True"
            ]
          },
          "metadata": {
            "tags": []
          },
          "execution_count": 231
        }
      ]
    },
    {
      "cell_type": "code",
      "metadata": {
        "id": "6SSpR1A2_P3R",
        "colab": {
          "base_uri": "https://localhost:8080/",
          "height": 264
        },
        "outputId": "bcac90c8-bae7-4e6a-a1c9-2dfef35c56d7"
      },
      "source": [
        "df"
      ],
      "execution_count": null,
      "outputs": [
        {
          "output_type": "execute_result",
          "data": {
            "text/html": [
              "<div>\n",
              "<style scoped>\n",
              "    .dataframe tbody tr th:only-of-type {\n",
              "        vertical-align: middle;\n",
              "    }\n",
              "\n",
              "    .dataframe tbody tr th {\n",
              "        vertical-align: top;\n",
              "    }\n",
              "\n",
              "    .dataframe thead th {\n",
              "        text-align: right;\n",
              "    }\n",
              "</style>\n",
              "<table border=\"1\" class=\"dataframe\">\n",
              "  <thead>\n",
              "    <tr style=\"text-align: right;\">\n",
              "      <th></th>\n",
              "      <th>eggs</th>\n",
              "      <th>salt</th>\n",
              "      <th>spam</th>\n",
              "      <th>bacon</th>\n",
              "    </tr>\n",
              "    <tr>\n",
              "      <th>month</th>\n",
              "      <th></th>\n",
              "      <th></th>\n",
              "      <th></th>\n",
              "      <th></th>\n",
              "    </tr>\n",
              "  </thead>\n",
              "  <tbody>\n",
              "    <tr>\n",
              "      <th>Jan</th>\n",
              "      <td>47</td>\n",
              "      <td>12.0</td>\n",
              "      <td>17</td>\n",
              "      <td>0</td>\n",
              "    </tr>\n",
              "    <tr>\n",
              "      <th>Feb</th>\n",
              "      <td>110</td>\n",
              "      <td>50.0</td>\n",
              "      <td>31</td>\n",
              "      <td>0</td>\n",
              "    </tr>\n",
              "    <tr>\n",
              "      <th>Mar</th>\n",
              "      <td>221</td>\n",
              "      <td>89.0</td>\n",
              "      <td>72</td>\n",
              "      <td>0</td>\n",
              "    </tr>\n",
              "    <tr>\n",
              "      <th>Apr</th>\n",
              "      <td>77</td>\n",
              "      <td>87.0</td>\n",
              "      <td>20</td>\n",
              "      <td>0</td>\n",
              "    </tr>\n",
              "    <tr>\n",
              "      <th>May</th>\n",
              "      <td>132</td>\n",
              "      <td>NaN</td>\n",
              "      <td>52</td>\n",
              "      <td>0</td>\n",
              "    </tr>\n",
              "    <tr>\n",
              "      <th>Jun</th>\n",
              "      <td>205</td>\n",
              "      <td>60.0</td>\n",
              "      <td>55</td>\n",
              "      <td>1</td>\n",
              "    </tr>\n",
              "  </tbody>\n",
              "</table>\n",
              "</div>"
            ],
            "text/plain": [
              "       eggs  salt  spam  bacon\n",
              "month                         \n",
              "Jan      47  12.0    17      0\n",
              "Feb     110  50.0    31      0\n",
              "Mar     221  89.0    72      0\n",
              "Apr      77  87.0    20      0\n",
              "May     132   NaN    52      0\n",
              "Jun     205  60.0    55      1"
            ]
          },
          "metadata": {
            "tags": []
          },
          "execution_count": 232
        }
      ]
    },
    {
      "cell_type": "code",
      "metadata": {
        "id": "D2wtIFLfmbz9",
        "colab": {
          "base_uri": "https://localhost:8080/",
          "height": 264
        },
        "outputId": "be3f6293-6d1e-42a6-8793-fe099ff4f7d4"
      },
      "source": [
        "\n",
        "df.loc[:, df.all()] "
      ],
      "execution_count": null,
      "outputs": [
        {
          "output_type": "execute_result",
          "data": {
            "text/html": [
              "<div>\n",
              "<style scoped>\n",
              "    .dataframe tbody tr th:only-of-type {\n",
              "        vertical-align: middle;\n",
              "    }\n",
              "\n",
              "    .dataframe tbody tr th {\n",
              "        vertical-align: top;\n",
              "    }\n",
              "\n",
              "    .dataframe thead th {\n",
              "        text-align: right;\n",
              "    }\n",
              "</style>\n",
              "<table border=\"1\" class=\"dataframe\">\n",
              "  <thead>\n",
              "    <tr style=\"text-align: right;\">\n",
              "      <th></th>\n",
              "      <th>eggs</th>\n",
              "      <th>salt</th>\n",
              "      <th>spam</th>\n",
              "    </tr>\n",
              "    <tr>\n",
              "      <th>month</th>\n",
              "      <th></th>\n",
              "      <th></th>\n",
              "      <th></th>\n",
              "    </tr>\n",
              "  </thead>\n",
              "  <tbody>\n",
              "    <tr>\n",
              "      <th>Jan</th>\n",
              "      <td>47</td>\n",
              "      <td>12.0</td>\n",
              "      <td>17</td>\n",
              "    </tr>\n",
              "    <tr>\n",
              "      <th>Feb</th>\n",
              "      <td>110</td>\n",
              "      <td>50.0</td>\n",
              "      <td>31</td>\n",
              "    </tr>\n",
              "    <tr>\n",
              "      <th>Mar</th>\n",
              "      <td>221</td>\n",
              "      <td>89.0</td>\n",
              "      <td>72</td>\n",
              "    </tr>\n",
              "    <tr>\n",
              "      <th>Apr</th>\n",
              "      <td>77</td>\n",
              "      <td>87.0</td>\n",
              "      <td>20</td>\n",
              "    </tr>\n",
              "    <tr>\n",
              "      <th>May</th>\n",
              "      <td>132</td>\n",
              "      <td>NaN</td>\n",
              "      <td>52</td>\n",
              "    </tr>\n",
              "    <tr>\n",
              "      <th>Jun</th>\n",
              "      <td>205</td>\n",
              "      <td>60.0</td>\n",
              "      <td>55</td>\n",
              "    </tr>\n",
              "  </tbody>\n",
              "</table>\n",
              "</div>"
            ],
            "text/plain": [
              "       eggs  salt  spam\n",
              "month                  \n",
              "Jan      47  12.0    17\n",
              "Feb     110  50.0    31\n",
              "Mar     221  89.0    72\n",
              "Apr      77  87.0    20\n",
              "May     132   NaN    52\n",
              "Jun     205  60.0    55"
            ]
          },
          "metadata": {
            "tags": []
          },
          "execution_count": 233
        }
      ]
    },
    {
      "cell_type": "markdown",
      "metadata": {
        "id": "gOiWnNXwB1lq"
      },
      "source": [
        "Select columns with any NaNs"
      ]
    },
    {
      "cell_type": "code",
      "metadata": {
        "id": "EwuU0egEB2Yh",
        "colab": {
          "base_uri": "https://localhost:8080/",
          "height": 264
        },
        "outputId": "1a3c6e12-3ac3-40b9-887a-f5578400d7f1"
      },
      "source": [
        "df.loc[:, df.isnull().any()]"
      ],
      "execution_count": null,
      "outputs": [
        {
          "output_type": "execute_result",
          "data": {
            "text/html": [
              "<div>\n",
              "<style scoped>\n",
              "    .dataframe tbody tr th:only-of-type {\n",
              "        vertical-align: middle;\n",
              "    }\n",
              "\n",
              "    .dataframe tbody tr th {\n",
              "        vertical-align: top;\n",
              "    }\n",
              "\n",
              "    .dataframe thead th {\n",
              "        text-align: right;\n",
              "    }\n",
              "</style>\n",
              "<table border=\"1\" class=\"dataframe\">\n",
              "  <thead>\n",
              "    <tr style=\"text-align: right;\">\n",
              "      <th></th>\n",
              "      <th>salt</th>\n",
              "    </tr>\n",
              "    <tr>\n",
              "      <th>month</th>\n",
              "      <th></th>\n",
              "    </tr>\n",
              "  </thead>\n",
              "  <tbody>\n",
              "    <tr>\n",
              "      <th>Jan</th>\n",
              "      <td>12.0</td>\n",
              "    </tr>\n",
              "    <tr>\n",
              "      <th>Feb</th>\n",
              "      <td>50.0</td>\n",
              "    </tr>\n",
              "    <tr>\n",
              "      <th>Mar</th>\n",
              "      <td>89.0</td>\n",
              "    </tr>\n",
              "    <tr>\n",
              "      <th>Apr</th>\n",
              "      <td>87.0</td>\n",
              "    </tr>\n",
              "    <tr>\n",
              "      <th>May</th>\n",
              "      <td>NaN</td>\n",
              "    </tr>\n",
              "    <tr>\n",
              "      <th>Jun</th>\n",
              "      <td>60.0</td>\n",
              "    </tr>\n",
              "  </tbody>\n",
              "</table>\n",
              "</div>"
            ],
            "text/plain": [
              "       salt\n",
              "month      \n",
              "Jan    12.0\n",
              "Feb    50.0\n",
              "Mar    89.0\n",
              "Apr    87.0\n",
              "May     NaN\n",
              "Jun    60.0"
            ]
          },
          "metadata": {
            "tags": []
          },
          "execution_count": 234
        }
      ]
    },
    {
      "cell_type": "markdown",
      "metadata": {
        "id": "wgGFW_DpBK0Z"
      },
      "source": [
        "Select columns without NaNs"
      ]
    },
    {
      "cell_type": "code",
      "metadata": {
        "id": "yAuCYe2773RB",
        "colab": {
          "base_uri": "https://localhost:8080/",
          "height": 264
        },
        "outputId": "f359a918-1376-457d-ae7e-574bfd81ac5f"
      },
      "source": [
        "df"
      ],
      "execution_count": null,
      "outputs": [
        {
          "output_type": "execute_result",
          "data": {
            "text/html": [
              "<div>\n",
              "<style scoped>\n",
              "    .dataframe tbody tr th:only-of-type {\n",
              "        vertical-align: middle;\n",
              "    }\n",
              "\n",
              "    .dataframe tbody tr th {\n",
              "        vertical-align: top;\n",
              "    }\n",
              "\n",
              "    .dataframe thead th {\n",
              "        text-align: right;\n",
              "    }\n",
              "</style>\n",
              "<table border=\"1\" class=\"dataframe\">\n",
              "  <thead>\n",
              "    <tr style=\"text-align: right;\">\n",
              "      <th></th>\n",
              "      <th>eggs</th>\n",
              "      <th>salt</th>\n",
              "      <th>spam</th>\n",
              "      <th>bacon</th>\n",
              "    </tr>\n",
              "    <tr>\n",
              "      <th>month</th>\n",
              "      <th></th>\n",
              "      <th></th>\n",
              "      <th></th>\n",
              "      <th></th>\n",
              "    </tr>\n",
              "  </thead>\n",
              "  <tbody>\n",
              "    <tr>\n",
              "      <th>Jan</th>\n",
              "      <td>47</td>\n",
              "      <td>12.0</td>\n",
              "      <td>17</td>\n",
              "      <td>0</td>\n",
              "    </tr>\n",
              "    <tr>\n",
              "      <th>Feb</th>\n",
              "      <td>110</td>\n",
              "      <td>50.0</td>\n",
              "      <td>31</td>\n",
              "      <td>0</td>\n",
              "    </tr>\n",
              "    <tr>\n",
              "      <th>Mar</th>\n",
              "      <td>221</td>\n",
              "      <td>89.0</td>\n",
              "      <td>72</td>\n",
              "      <td>0</td>\n",
              "    </tr>\n",
              "    <tr>\n",
              "      <th>Apr</th>\n",
              "      <td>77</td>\n",
              "      <td>87.0</td>\n",
              "      <td>20</td>\n",
              "      <td>0</td>\n",
              "    </tr>\n",
              "    <tr>\n",
              "      <th>May</th>\n",
              "      <td>132</td>\n",
              "      <td>NaN</td>\n",
              "      <td>52</td>\n",
              "      <td>0</td>\n",
              "    </tr>\n",
              "    <tr>\n",
              "      <th>Jun</th>\n",
              "      <td>205</td>\n",
              "      <td>60.0</td>\n",
              "      <td>55</td>\n",
              "      <td>1</td>\n",
              "    </tr>\n",
              "  </tbody>\n",
              "</table>\n",
              "</div>"
            ],
            "text/plain": [
              "       eggs  salt  spam  bacon\n",
              "month                         \n",
              "Jan      47  12.0    17      0\n",
              "Feb     110  50.0    31      0\n",
              "Mar     221  89.0    72      0\n",
              "Apr      77  87.0    20      0\n",
              "May     132   NaN    52      0\n",
              "Jun     205  60.0    55      1"
            ]
          },
          "metadata": {
            "tags": []
          },
          "execution_count": 235
        }
      ]
    },
    {
      "cell_type": "code",
      "metadata": {
        "id": "F1fAJjoJCD3a",
        "colab": {
          "base_uri": "https://localhost:8080/",
          "height": 264
        },
        "outputId": "32c247e4-31cb-4bd0-e108-6a9292e6fe02"
      },
      "source": [
        "df.loc[:, df.notnull().any()] "
      ],
      "execution_count": null,
      "outputs": [
        {
          "output_type": "execute_result",
          "data": {
            "text/html": [
              "<div>\n",
              "<style scoped>\n",
              "    .dataframe tbody tr th:only-of-type {\n",
              "        vertical-align: middle;\n",
              "    }\n",
              "\n",
              "    .dataframe tbody tr th {\n",
              "        vertical-align: top;\n",
              "    }\n",
              "\n",
              "    .dataframe thead th {\n",
              "        text-align: right;\n",
              "    }\n",
              "</style>\n",
              "<table border=\"1\" class=\"dataframe\">\n",
              "  <thead>\n",
              "    <tr style=\"text-align: right;\">\n",
              "      <th></th>\n",
              "      <th>eggs</th>\n",
              "      <th>salt</th>\n",
              "      <th>spam</th>\n",
              "      <th>bacon</th>\n",
              "    </tr>\n",
              "    <tr>\n",
              "      <th>month</th>\n",
              "      <th></th>\n",
              "      <th></th>\n",
              "      <th></th>\n",
              "      <th></th>\n",
              "    </tr>\n",
              "  </thead>\n",
              "  <tbody>\n",
              "    <tr>\n",
              "      <th>Jan</th>\n",
              "      <td>47</td>\n",
              "      <td>12.0</td>\n",
              "      <td>17</td>\n",
              "      <td>0</td>\n",
              "    </tr>\n",
              "    <tr>\n",
              "      <th>Feb</th>\n",
              "      <td>110</td>\n",
              "      <td>50.0</td>\n",
              "      <td>31</td>\n",
              "      <td>0</td>\n",
              "    </tr>\n",
              "    <tr>\n",
              "      <th>Mar</th>\n",
              "      <td>221</td>\n",
              "      <td>89.0</td>\n",
              "      <td>72</td>\n",
              "      <td>0</td>\n",
              "    </tr>\n",
              "    <tr>\n",
              "      <th>Apr</th>\n",
              "      <td>77</td>\n",
              "      <td>87.0</td>\n",
              "      <td>20</td>\n",
              "      <td>0</td>\n",
              "    </tr>\n",
              "    <tr>\n",
              "      <th>May</th>\n",
              "      <td>132</td>\n",
              "      <td>NaN</td>\n",
              "      <td>52</td>\n",
              "      <td>0</td>\n",
              "    </tr>\n",
              "    <tr>\n",
              "      <th>Jun</th>\n",
              "      <td>205</td>\n",
              "      <td>60.0</td>\n",
              "      <td>55</td>\n",
              "      <td>1</td>\n",
              "    </tr>\n",
              "  </tbody>\n",
              "</table>\n",
              "</div>"
            ],
            "text/plain": [
              "       eggs  salt  spam  bacon\n",
              "month                         \n",
              "Jan      47  12.0    17      0\n",
              "Feb     110  50.0    31      0\n",
              "Mar     221  89.0    72      0\n",
              "Apr      77  87.0    20      0\n",
              "May     132   NaN    52      0\n",
              "Jun     205  60.0    55      1"
            ]
          },
          "metadata": {
            "tags": []
          },
          "execution_count": 236
        }
      ]
    },
    {
      "cell_type": "markdown",
      "metadata": {
        "id": "RFjqiTMSCLnB"
      },
      "source": [
        "Drop rows with any NaNs"
      ]
    },
    {
      "cell_type": "code",
      "metadata": {
        "id": "utqpRlf5BLWH",
        "colab": {
          "base_uri": "https://localhost:8080/",
          "height": 233
        },
        "outputId": "aa751ebc-9132-4a60-8f46-7b7a6ad72e8f"
      },
      "source": [
        "df.dropna(how='any') "
      ],
      "execution_count": null,
      "outputs": [
        {
          "output_type": "execute_result",
          "data": {
            "text/html": [
              "<div>\n",
              "<style scoped>\n",
              "    .dataframe tbody tr th:only-of-type {\n",
              "        vertical-align: middle;\n",
              "    }\n",
              "\n",
              "    .dataframe tbody tr th {\n",
              "        vertical-align: top;\n",
              "    }\n",
              "\n",
              "    .dataframe thead th {\n",
              "        text-align: right;\n",
              "    }\n",
              "</style>\n",
              "<table border=\"1\" class=\"dataframe\">\n",
              "  <thead>\n",
              "    <tr style=\"text-align: right;\">\n",
              "      <th></th>\n",
              "      <th>eggs</th>\n",
              "      <th>salt</th>\n",
              "      <th>spam</th>\n",
              "      <th>bacon</th>\n",
              "    </tr>\n",
              "    <tr>\n",
              "      <th>month</th>\n",
              "      <th></th>\n",
              "      <th></th>\n",
              "      <th></th>\n",
              "      <th></th>\n",
              "    </tr>\n",
              "  </thead>\n",
              "  <tbody>\n",
              "    <tr>\n",
              "      <th>Jan</th>\n",
              "      <td>47</td>\n",
              "      <td>12.0</td>\n",
              "      <td>17</td>\n",
              "      <td>0</td>\n",
              "    </tr>\n",
              "    <tr>\n",
              "      <th>Feb</th>\n",
              "      <td>110</td>\n",
              "      <td>50.0</td>\n",
              "      <td>31</td>\n",
              "      <td>0</td>\n",
              "    </tr>\n",
              "    <tr>\n",
              "      <th>Mar</th>\n",
              "      <td>221</td>\n",
              "      <td>89.0</td>\n",
              "      <td>72</td>\n",
              "      <td>0</td>\n",
              "    </tr>\n",
              "    <tr>\n",
              "      <th>Apr</th>\n",
              "      <td>77</td>\n",
              "      <td>87.0</td>\n",
              "      <td>20</td>\n",
              "      <td>0</td>\n",
              "    </tr>\n",
              "    <tr>\n",
              "      <th>Jun</th>\n",
              "      <td>205</td>\n",
              "      <td>60.0</td>\n",
              "      <td>55</td>\n",
              "      <td>1</td>\n",
              "    </tr>\n",
              "  </tbody>\n",
              "</table>\n",
              "</div>"
            ],
            "text/plain": [
              "       eggs  salt  spam  bacon\n",
              "month                         \n",
              "Jan      47  12.0    17      0\n",
              "Feb     110  50.0    31      0\n",
              "Mar     221  89.0    72      0\n",
              "Apr      77  87.0    20      0\n",
              "Jun     205  60.0    55      1"
            ]
          },
          "metadata": {
            "tags": []
          },
          "execution_count": 237
        }
      ]
    },
    {
      "cell_type": "code",
      "metadata": {
        "id": "evgZs7IlvDlV",
        "colab": {
          "base_uri": "https://localhost:8080/"
        },
        "outputId": "bce7e814-61a5-445e-e895-325f8b13f901"
      },
      "source": [
        "from google.colab import drive\n",
        "drive.mount('/content/drive',)"
      ],
      "execution_count": null,
      "outputs": [
        {
          "output_type": "stream",
          "text": [
            "Drive already mounted at /content/drive; to attempt to forcibly remount, call drive.mount(\"/content/drive\", force_remount=True).\n"
          ],
          "name": "stdout"
        }
      ]
    },
    {
      "cell_type": "code",
      "metadata": {
        "colab": {
          "base_uri": "https://localhost:8080/"
        },
        "id": "aC9oVvmASazx",
        "outputId": "5836f66a-a66b-4fcb-9827-416966b86ecb"
      },
      "source": [
        "from google.colab import drive\n",
        "drive.mount('/content/drive')"
      ],
      "execution_count": null,
      "outputs": [
        {
          "output_type": "stream",
          "text": [
            "Drive already mounted at /content/drive; to attempt to forcibly remount, call drive.mount(\"/content/drive\", force_remount=True).\n"
          ],
          "name": "stdout"
        }
      ]
    },
    {
      "cell_type": "code",
      "metadata": {
        "id": "5dOYgAp8hSPA",
        "colab": {
          "base_uri": "https://localhost:8080/",
          "height": 264
        },
        "outputId": "52cb97ac-f2fd-47f9-8570-4a32c01d69cf"
      },
      "source": [
        "df"
      ],
      "execution_count": null,
      "outputs": [
        {
          "output_type": "execute_result",
          "data": {
            "text/html": [
              "<div>\n",
              "<style scoped>\n",
              "    .dataframe tbody tr th:only-of-type {\n",
              "        vertical-align: middle;\n",
              "    }\n",
              "\n",
              "    .dataframe tbody tr th {\n",
              "        vertical-align: top;\n",
              "    }\n",
              "\n",
              "    .dataframe thead th {\n",
              "        text-align: right;\n",
              "    }\n",
              "</style>\n",
              "<table border=\"1\" class=\"dataframe\">\n",
              "  <thead>\n",
              "    <tr style=\"text-align: right;\">\n",
              "      <th></th>\n",
              "      <th>eggs</th>\n",
              "      <th>salt</th>\n",
              "      <th>spam</th>\n",
              "      <th>bacon</th>\n",
              "    </tr>\n",
              "    <tr>\n",
              "      <th>month</th>\n",
              "      <th></th>\n",
              "      <th></th>\n",
              "      <th></th>\n",
              "      <th></th>\n",
              "    </tr>\n",
              "  </thead>\n",
              "  <tbody>\n",
              "    <tr>\n",
              "      <th>Jan</th>\n",
              "      <td>47</td>\n",
              "      <td>12.0</td>\n",
              "      <td>17</td>\n",
              "      <td>0</td>\n",
              "    </tr>\n",
              "    <tr>\n",
              "      <th>Feb</th>\n",
              "      <td>110</td>\n",
              "      <td>50.0</td>\n",
              "      <td>31</td>\n",
              "      <td>0</td>\n",
              "    </tr>\n",
              "    <tr>\n",
              "      <th>Mar</th>\n",
              "      <td>221</td>\n",
              "      <td>89.0</td>\n",
              "      <td>72</td>\n",
              "      <td>0</td>\n",
              "    </tr>\n",
              "    <tr>\n",
              "      <th>Apr</th>\n",
              "      <td>77</td>\n",
              "      <td>87.0</td>\n",
              "      <td>20</td>\n",
              "      <td>0</td>\n",
              "    </tr>\n",
              "    <tr>\n",
              "      <th>May</th>\n",
              "      <td>132</td>\n",
              "      <td>NaN</td>\n",
              "      <td>52</td>\n",
              "      <td>0</td>\n",
              "    </tr>\n",
              "    <tr>\n",
              "      <th>Jun</th>\n",
              "      <td>205</td>\n",
              "      <td>60.0</td>\n",
              "      <td>55</td>\n",
              "      <td>1</td>\n",
              "    </tr>\n",
              "  </tbody>\n",
              "</table>\n",
              "</div>"
            ],
            "text/plain": [
              "       eggs  salt  spam  bacon\n",
              "month                         \n",
              "Jan      47  12.0    17      0\n",
              "Feb     110  50.0    31      0\n",
              "Mar     221  89.0    72      0\n",
              "Apr      77  87.0    20      0\n",
              "May     132   NaN    52      0\n",
              "Jun     205  60.0    55      1"
            ]
          },
          "metadata": {
            "tags": []
          },
          "execution_count": 240
        }
      ]
    },
    {
      "cell_type": "code",
      "metadata": {
        "id": "1VR7XDUFhHFi",
        "colab": {
          "base_uri": "https://localhost:8080/"
        },
        "outputId": "a3c9ec9a-8174-46c8-dfc8-88faa7b979f7"
      },
      "source": [
        "df.salt > 55"
      ],
      "execution_count": null,
      "outputs": [
        {
          "output_type": "execute_result",
          "data": {
            "text/plain": [
              "month\n",
              "Jan    False\n",
              "Feb    False\n",
              "Mar     True\n",
              "Apr     True\n",
              "May    False\n",
              "Jun     True\n",
              "Name: salt, dtype: bool"
            ]
          },
          "metadata": {
            "tags": []
          },
          "execution_count": 241
        }
      ]
    },
    {
      "cell_type": "markdown",
      "metadata": {
        "id": "U-t4PGPtCQQI"
      },
      "source": [
        "Filtering a column based on another"
      ]
    },
    {
      "cell_type": "code",
      "metadata": {
        "id": "FywSZ0RmRtLX",
        "colab": {
          "base_uri": "https://localhost:8080/"
        },
        "outputId": "e110cdc9-3cca-4069-a5bf-fa667aa9797a"
      },
      "source": [
        "df.eggs[df.salt > 55]  #returns a series"
      ],
      "execution_count": null,
      "outputs": [
        {
          "output_type": "execute_result",
          "data": {
            "text/plain": [
              "month\n",
              "Mar    221\n",
              "Apr     77\n",
              "Jun    205\n",
              "Name: eggs, dtype: int64"
            ]
          },
          "metadata": {
            "tags": []
          },
          "execution_count": 242
        }
      ]
    }
  ]
}