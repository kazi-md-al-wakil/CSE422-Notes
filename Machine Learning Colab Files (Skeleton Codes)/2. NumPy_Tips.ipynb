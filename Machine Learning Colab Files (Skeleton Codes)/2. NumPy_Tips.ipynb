{
  "nbformat": 4,
  "nbformat_minor": 0,
  "metadata": {
    "colab": {
      "name": "NumPy Tips",
      "provenance": []
    },
    "kernelspec": {
      "name": "python3",
      "display_name": "Python 3"
    }
  },
  "cells": [
    {
      "cell_type": "markdown",
      "metadata": {
        "id": "-ouTQct3OsGT"
      },
      "source": [
        "#What is Numpy?"
      ]
    },
    {
      "cell_type": "markdown",
      "metadata": {
        "id": "e2LfL3dbMla1"
      },
      "source": [
        "\n",
        "NumPy is a python library that provides you with an array data structure that holds some benefits over Python lists, such as: being more compact, faster access in reading and writing items, being more convenient and more efficient.\n",
        "\n",
        "In other words, NumPy is a very important core library for scientific computing in Python. It contains a collection of tools and techniques that can be used to solve computational mathematical problems in Science and Engineering. One of these tools is a high-performance multidimensional array object that is a powerful data structure for efficient computation of arrays and matrices.\n",
        "\n",
        "We will see NumPy in action with different examples.\n",
        "\n",
        "\n"
      ]
    },
    {
      "cell_type": "markdown",
      "metadata": {
        "id": "plC5ifglYvEA"
      },
      "source": [
        "#Creating a normal List\n",
        "\n",
        "> \n",
        "\n",
        "\n"
      ]
    },
    {
      "cell_type": "code",
      "metadata": {
        "id": "IfsxOCGaX9W_",
        "colab": {
          "base_uri": "https://localhost:8080/"
        },
        "outputId": "a7008f6d-9ae7-449a-a4f1-6b1a569cc7e3"
      },
      "source": [
        "my_list=[1,2,3]\n",
        "my_list \n"
      ],
      "execution_count": null,
      "outputs": [
        {
          "output_type": "execute_result",
          "data": {
            "text/plain": [
              "[1, 2, 3]"
            ]
          },
          "metadata": {
            "tags": []
          },
          "execution_count": 16
        }
      ]
    },
    {
      "cell_type": "markdown",
      "metadata": {
        "id": "vTinDa-MYinj"
      },
      "source": [
        "#Casting a normal python list into a NumPy array"
      ]
    },
    {
      "cell_type": "markdown",
      "metadata": {
        "id": "9aef7Ml2PxTB"
      },
      "source": [
        "NumPy library follows an import convention: when you import this library, you have to make sure that you import it as **np**. By doing this, you’ll make sure that other Pythonistas understand your code more easily."
      ]
    },
    {
      "cell_type": "code",
      "metadata": {
        "id": "GhbZaAJeYA_x"
      },
      "source": [
        "import numpy as np\n",
        "a=np.array(my_list)\n"
      ],
      "execution_count": null,
      "outputs": []
    },
    {
      "cell_type": "code",
      "metadata": {
        "id": "Vd6YJsXVNS76"
      },
      "source": [
        "my_mat=[[1,2,3],[4,5,6],[7,8,9],[10,11,12]]\n",
        "s=np.array(my_mat)"
      ],
      "execution_count": null,
      "outputs": []
    },
    {
      "cell_type": "markdown",
      "metadata": {
        "id": "Hvx0mezwVr1F"
      },
      "source": [
        "#NumPy own genatation method"
      ]
    },
    {
      "cell_type": "code",
      "metadata": {
        "id": "uANwGXbCfNKp",
        "colab": {
          "base_uri": "https://localhost:8080/"
        },
        "outputId": "84605b19-436e-4817-e604-d67c6a3e48a1"
      },
      "source": [
        "np.arange(0,10)"
      ],
      "execution_count": null,
      "outputs": [
        {
          "output_type": "execute_result",
          "data": {
            "text/plain": [
              "array([0, 1, 2, 3, 4, 5, 6, 7, 8, 9])"
            ]
          },
          "metadata": {
            "tags": []
          },
          "execution_count": 19
        }
      ]
    },
    {
      "cell_type": "markdown",
      "metadata": {
        "id": "MxXd7hWPa2FM"
      },
      "source": [
        "#NumPy also provides many functions to create arrays:"
      ]
    },
    {
      "cell_type": "code",
      "metadata": {
        "id": "cgOg2p4da5_g",
        "colab": {
          "base_uri": "https://localhost:8080/"
        },
        "outputId": "99394348-2883-49f0-fd4d-d3b1b8aa87c3"
      },
      "source": [
        "import numpy as np\n",
        "\n",
        "a = np.zeros((2,2))   # Create an array of all zeros\n",
        "print(a)              # Prints \"[[ 0.  0.]\n",
        "                      #          [ 0.  0.]]\"\n",
        "\n",
        "b = np.ones((4,2))    # Create an array of all ones\n",
        "print(b)              # Prints \"[[ 1.  1.]]\""
      ],
      "execution_count": null,
      "outputs": [
        {
          "output_type": "stream",
          "text": [
            "[[0. 0.]\n",
            " [0. 0.]]\n",
            "[[1. 1.]\n",
            " [1. 1.]\n",
            " [1. 1.]\n",
            " [1. 1.]]\n"
          ],
          "name": "stdout"
        }
      ]
    },
    {
      "cell_type": "code",
      "metadata": {
        "id": "5P5Yad8eagHf",
        "colab": {
          "base_uri": "https://localhost:8080/"
        },
        "outputId": "9b5bde6e-4e54-446a-bdb5-0ed693960a02"
      },
      "source": [
        "np.linspace(0,10,10)"
      ],
      "execution_count": null,
      "outputs": [
        {
          "output_type": "execute_result",
          "data": {
            "text/plain": [
              "array([ 0.        ,  1.11111111,  2.22222222,  3.33333333,  4.44444444,\n",
              "        5.55555556,  6.66666667,  7.77777778,  8.88888889, 10.        ])"
            ]
          },
          "metadata": {
            "tags": []
          },
          "execution_count": 21
        }
      ]
    },
    {
      "cell_type": "code",
      "metadata": {
        "id": "wtUpkPXBati7",
        "colab": {
          "base_uri": "https://localhost:8080/"
        },
        "outputId": "bc6eb35e-d2a9-40a8-f8d6-5467f7aa80c6"
      },
      "source": [
        "np.eye(5) #identitity matrix(2d square matrix)"
      ],
      "execution_count": null,
      "outputs": [
        {
          "output_type": "execute_result",
          "data": {
            "text/plain": [
              "array([[1., 0., 0., 0., 0.],\n",
              "       [0., 1., 0., 0., 0.],\n",
              "       [0., 0., 1., 0., 0.],\n",
              "       [0., 0., 0., 1., 0.],\n",
              "       [0., 0., 0., 0., 1.]])"
            ]
          },
          "metadata": {
            "tags": []
          },
          "execution_count": 22
        }
      ]
    },
    {
      "cell_type": "code",
      "metadata": {
        "id": "QTBl7q9mbARj",
        "colab": {
          "base_uri": "https://localhost:8080/"
        },
        "outputId": "a3a3eb14-2c92-489d-8052-c1f697a6ea05"
      },
      "source": [
        "#creating arrays of random numbers\n",
        "np.random.rand(5) #uniform distribution from 0 to 1"
      ],
      "execution_count": null,
      "outputs": [
        {
          "output_type": "execute_result",
          "data": {
            "text/plain": [
              "array([0.56589676, 0.21380228, 0.36122829, 0.81842676, 0.07930536])"
            ]
          },
          "metadata": {
            "tags": []
          },
          "execution_count": 23
        }
      ]
    },
    {
      "cell_type": "code",
      "metadata": {
        "id": "Pl5cjuNYb_tS",
        "colab": {
          "base_uri": "https://localhost:8080/"
        },
        "outputId": "108515d2-45d5-43f7-838d-5f230ef7ab27"
      },
      "source": [
        "#creating arrays of random numbers\n",
        "np.random.rand(5,5) # 2D uniform distribute from 0 to 1"
      ],
      "execution_count": null,
      "outputs": [
        {
          "output_type": "execute_result",
          "data": {
            "text/plain": [
              "array([[0.81565599, 0.45359242, 0.68177353, 0.55046299, 0.88186574],\n",
              "       [0.72497207, 0.62359289, 0.19768745, 0.26740449, 0.87618588],\n",
              "       [0.39397703, 0.30230744, 0.5940924 , 0.16378247, 0.57788044],\n",
              "       [0.1946473 , 0.15318055, 0.96188762, 0.33818409, 0.19333619],\n",
              "       [0.76057971, 0.2199619 , 0.26982591, 0.01582078, 0.22598602]])"
            ]
          },
          "metadata": {
            "tags": []
          },
          "execution_count": 24
        }
      ]
    },
    {
      "cell_type": "code",
      "metadata": {
        "id": "7jux7WkccIgd",
        "colab": {
          "base_uri": "https://localhost:8080/"
        },
        "outputId": "bdf8a066-9556-4e91-b399-2ac585e8ac69"
      },
      "source": [
        "#creating arrays of random numbers\n",
        "np.random.randn(4) # standard normal distribution range from -infinty to infinity"
      ],
      "execution_count": null,
      "outputs": [
        {
          "output_type": "execute_result",
          "data": {
            "text/plain": [
              "array([-0.2000559 , -0.45898359,  0.03309988,  0.48908857])"
            ]
          },
          "metadata": {
            "tags": []
          },
          "execution_count": 25
        }
      ]
    },
    {
      "cell_type": "code",
      "metadata": {
        "id": "ecJwNXgXdwFH",
        "colab": {
          "base_uri": "https://localhost:8080/"
        },
        "outputId": "a7da6e0c-20c5-4349-d7d2-10eaed2fd118"
      },
      "source": [
        "#creating arrays of random numbers\n",
        "np.random.randint(1,100,20)    "
      ],
      "execution_count": null,
      "outputs": [
        {
          "output_type": "execute_result",
          "data": {
            "text/plain": [
              "array([19, 35, 58, 69, 60, 41, 18,  3, 23, 90, 76,  7, 91,  3,  4, 95, 97,\n",
              "       41, 58,  9])"
            ]
          },
          "metadata": {
            "tags": []
          },
          "execution_count": 26
        }
      ]
    },
    {
      "cell_type": "code",
      "metadata": {
        "id": "d8yUP_oT3xrd",
        "colab": {
          "base_uri": "https://localhost:8080/"
        },
        "outputId": "6c87c065-1b07-477a-aaac-8446aa4d54f0"
      },
      "source": [
        "#gives you 6 numbers randomly from 0-(10-1)\n",
        "x1 = np.random.randint(10, size=6)\n",
        "x1"
      ],
      "execution_count": null,
      "outputs": [
        {
          "output_type": "execute_result",
          "data": {
            "text/plain": [
              "array([7, 0, 9, 6, 4, 5])"
            ]
          },
          "metadata": {
            "tags": []
          },
          "execution_count": 27
        }
      ]
    },
    {
      "cell_type": "code",
      "metadata": {
        "id": "eoj-joau33L7",
        "colab": {
          "base_uri": "https://localhost:8080/"
        },
        "outputId": "3ed30044-af8f-407b-f1f7-9d1e3022441b"
      },
      "source": [
        "x2 = np.random.randint(10, size=(3,4,3))\n",
        "print(x2)\n",
        "print(x2.shape)\n",
        "print(f\"Dimensiion = {x2.ndim}\")"
      ],
      "execution_count": null,
      "outputs": [
        {
          "output_type": "stream",
          "text": [
            "[[[0 8 2]\n",
            "  [7 3 7]\n",
            "  [9 2 3]\n",
            "  [3 4 1]]\n",
            "\n",
            " [[6 8 6]\n",
            "  [5 8 6]\n",
            "  [6 0 3]\n",
            "  [2 9 0]]\n",
            "\n",
            " [[3 3 1]\n",
            "  [6 0 0]\n",
            "  [1 5 6]\n",
            "  [9 1 9]]]\n",
            "(3, 4, 3)\n",
            "Dimensiion = 3\n"
          ],
          "name": "stdout"
        }
      ]
    },
    {
      "cell_type": "code",
      "metadata": {
        "id": "pHSIxk_hePZC",
        "colab": {
          "base_uri": "https://localhost:8080/"
        },
        "outputId": "b6be3a10-d9e2-4291-b5c0-6a552f3be611"
      },
      "source": [
        "#creating max and min value in array\n",
        "my_arr=np.array([1,-3,4,5,3,4,56,7,-34])\n",
        "print(my_arr.min())\n",
        "print(my_arr.max())"
      ],
      "execution_count": null,
      "outputs": [
        {
          "output_type": "stream",
          "text": [
            "-34\n",
            "56\n"
          ],
          "name": "stdout"
        }
      ]
    },
    {
      "cell_type": "code",
      "metadata": {
        "id": "qIN6xH9If1WR",
        "colab": {
          "base_uri": "https://localhost:8080/"
        },
        "outputId": "4f76d25d-0124-4d33-eae0-caa62f8be1d9"
      },
      "source": [
        "#returning index number max and min value in array\n",
        "print(my_arr.argmin())\n",
        "print(my_arr.argmax())"
      ],
      "execution_count": null,
      "outputs": [
        {
          "output_type": "stream",
          "text": [
            "8\n",
            "6\n"
          ],
          "name": "stdout"
        }
      ]
    },
    {
      "cell_type": "code",
      "metadata": {
        "id": "-Oc052Orhr3H",
        "colab": {
          "base_uri": "https://localhost:8080/"
        },
        "outputId": "dfdc12bc-c053-460a-d8a3-c5b66c69c55a"
      },
      "source": [
        "#how to find the shape of vector?\n",
        "my_arr.shape"
      ],
      "execution_count": null,
      "outputs": [
        {
          "output_type": "execute_result",
          "data": {
            "text/plain": [
              "(9,)"
            ]
          },
          "metadata": {
            "tags": []
          },
          "execution_count": 31
        }
      ]
    },
    {
      "cell_type": "code",
      "metadata": {
        "id": "iLOsT8fBh5UN",
        "colab": {
          "base_uri": "https://localhost:8080/"
        },
        "outputId": "23f8fe92-ed71-40e7-852d-5f4d0a47bdd2"
      },
      "source": [
        "#how to reshape vector?\n",
        "my_arr.reshape(3,3)\n"
      ],
      "execution_count": null,
      "outputs": [
        {
          "output_type": "execute_result",
          "data": {
            "text/plain": [
              "array([[  1,  -3,   4],\n",
              "       [  5,   3,   4],\n",
              "       [ 56,   7, -34]])"
            ]
          },
          "metadata": {
            "tags": []
          },
          "execution_count": 32
        }
      ]
    },
    {
      "cell_type": "code",
      "metadata": {
        "id": "TIiMfZDSicbi",
        "colab": {
          "base_uri": "https://localhost:8080/"
        },
        "outputId": "f83eb981-9ac0-4ba3-a0a2-389e92a9f485"
      },
      "source": [
        "#how to know  what the data type value we have in array ?\n",
        "print(type(my_arr))\n",
        "print(my_arr.dtype)"
      ],
      "execution_count": null,
      "outputs": [
        {
          "output_type": "stream",
          "text": [
            "<class 'numpy.ndarray'>\n",
            "int64\n"
          ],
          "name": "stdout"
        }
      ]
    },
    {
      "cell_type": "code",
      "metadata": {
        "id": "iKoE0W5jjskf",
        "colab": {
          "base_uri": "https://localhost:8080/"
        },
        "outputId": "0253500a-68f7-47e6-fb36-8203f8029407"
      },
      "source": [
        "#append\n",
        "import numpy as np\n",
        "new_arr=np.arange(1,11)\n",
        "print(new_arr)\n",
        "new_arr= np.append(new_arr,[100,20,30])\n",
        "print(new_arr)"
      ],
      "execution_count": null,
      "outputs": [
        {
          "output_type": "stream",
          "text": [
            "[ 1  2  3  4  5  6  7  8  9 10]\n",
            "[  1   2   3   4   5   6   7   8   9  10 100  20  30]\n"
          ],
          "name": "stdout"
        }
      ]
    },
    {
      "cell_type": "code",
      "metadata": {
        "id": "bCISt5wt5xVR",
        "colab": {
          "base_uri": "https://localhost:8080/"
        },
        "outputId": "ba39d55e-b68f-4f17-97d2-0d6872528159"
      },
      "source": [
        "import numpy as np\n",
        "a = np.array([[1,2,3],[4,5,6]])\n",
        "print(a)\n",
        "b= np.array([[400],[800]])\n",
        "print(b)\n",
        "newarr = np.append(a, b,axis=1 )\n",
        "print(newarr)"
      ],
      "execution_count": null,
      "outputs": [
        {
          "output_type": "stream",
          "text": [
            "[[1 2 3]\n",
            " [4 5 6]]\n",
            "[[400]\n",
            " [800]]\n",
            "[[  1   2   3 400]\n",
            " [  4   5   6 800]]\n"
          ],
          "name": "stdout"
        }
      ]
    },
    {
      "cell_type": "code",
      "metadata": {
        "id": "nneWFjDu57U4",
        "colab": {
          "base_uri": "https://localhost:8080/"
        },
        "outputId": "8c8774aa-a59c-44c4-ed69-6f9c2c3842b4"
      },
      "source": [
        "import numpy as np\n",
        "a = np.array([[1,2,3],[4,5,6]])\n",
        "b= np.array([[400],[800]])\n",
        "newarr = np.append(a, b)\n",
        "print(newarr)"
      ],
      "execution_count": null,
      "outputs": [
        {
          "output_type": "stream",
          "text": [
            "[  1   2   3   4   5   6 400 800]\n"
          ],
          "name": "stdout"
        }
      ]
    },
    {
      "cell_type": "code",
      "metadata": {
        "id": "BgcZLj97jxPj",
        "colab": {
          "base_uri": "https://localhost:8080/"
        },
        "outputId": "6265dedd-1b7c-4941-80c0-b7721e405137"
      },
      "source": [
        "#insert\n",
        "a= np.array([1 , 2, 3])\n",
        "print( a) \n",
        "new_array= np.insert(a,1,50)\n",
        "print(new_array)"
      ],
      "execution_count": null,
      "outputs": [
        {
          "output_type": "stream",
          "text": [
            "[1 2 3]\n",
            "[ 1 50  2  3]\n"
          ],
          "name": "stdout"
        }
      ]
    },
    {
      "cell_type": "code",
      "metadata": {
        "id": "bqUKXsiIjurJ",
        "colab": {
          "base_uri": "https://localhost:8080/"
        },
        "outputId": "6945ef37-d29a-44b5-82a5-bc9af45159ac"
      },
      "source": [
        "#delete\n",
        "import numpy as np\n",
        "a = np.array([[1,2,3],[4,5,6],[10,20,30]])\n",
        "\n",
        "print(a)\n",
        "narr = np.delete(a,1,axis=0)\n",
        "print(narr)"
      ],
      "execution_count": null,
      "outputs": [
        {
          "output_type": "stream",
          "text": [
            "[[ 1  2  3]\n",
            " [ 4  5  6]\n",
            " [10 20 30]]\n",
            "[[ 1  2  3]\n",
            " [10 20 30]]\n"
          ],
          "name": "stdout"
        }
      ]
    },
    {
      "cell_type": "code",
      "metadata": {
        "id": "hrjLbeTe1-y1",
        "colab": {
          "base_uri": "https://localhost:8080/"
        },
        "outputId": "8c61d526-5f36-473a-e75e-c839a3fcc12d"
      },
      "source": [
        "#finding the index of a value in the array usin where() method\n",
        "a = np.array([1 , 2 ,3, 5 ,4 ,5])\n",
        "print(np.where(a==5))"
      ],
      "execution_count": null,
      "outputs": [
        {
          "output_type": "stream",
          "text": [
            "(array([3, 5]),)\n"
          ],
          "name": "stdout"
        }
      ]
    },
    {
      "cell_type": "markdown",
      "metadata": {
        "id": "tgqWS_m72Ul2"
      },
      "source": [
        "#NumPy Indexing and Selection\n"
      ]
    },
    {
      "cell_type": "code",
      "metadata": {
        "id": "okJRj-mc2RC5",
        "colab": {
          "base_uri": "https://localhost:8080/"
        },
        "outputId": "c5ba4245-1e0f-4fce-bf1f-31b83b0cc13f"
      },
      "source": [
        "import numpy as np\n",
        "a = np.array([[1,2,3],[4,5,6],[7,8,9]])\n",
        "print(a)\n"
      ],
      "execution_count": null,
      "outputs": [
        {
          "output_type": "stream",
          "text": [
            "[[1 2 3]\n",
            " [4 5 6]\n",
            " [7 8 9]]\n"
          ],
          "name": "stdout"
        }
      ]
    },
    {
      "cell_type": "code",
      "metadata": {
        "id": "8ikiVcPW6Qo4",
        "colab": {
          "base_uri": "https://localhost:8080/"
        },
        "outputId": "bc1a9615-bc37-42e5-ec13-c937efbcbe1d"
      },
      "source": [
        "a[1,0]"
      ],
      "execution_count": null,
      "outputs": [
        {
          "output_type": "execute_result",
          "data": {
            "text/plain": [
              "4"
            ]
          },
          "metadata": {
            "tags": []
          },
          "execution_count": 41
        }
      ]
    },
    {
      "cell_type": "code",
      "metadata": {
        "id": "4QHh5Fo46kEV",
        "colab": {
          "base_uri": "https://localhost:8080/"
        },
        "outputId": "e4b91275-9c50-431c-e896-f22cc37601bc"
      },
      "source": [
        "a[1:,1:]\n"
      ],
      "execution_count": null,
      "outputs": [
        {
          "output_type": "execute_result",
          "data": {
            "text/plain": [
              "array([[5, 6],\n",
              "       [8, 9]])"
            ]
          },
          "metadata": {
            "tags": []
          },
          "execution_count": 42
        }
      ]
    },
    {
      "cell_type": "code",
      "metadata": {
        "id": "KA17YczkUgek",
        "colab": {
          "base_uri": "https://localhost:8080/"
        },
        "outputId": "3e7bb030-cc86-4e3a-e181-727f43e7218b"
      },
      "source": [
        "a[:2,1:]"
      ],
      "execution_count": null,
      "outputs": [
        {
          "output_type": "execute_result",
          "data": {
            "text/plain": [
              "array([[2, 3],\n",
              "       [5, 6]])"
            ]
          },
          "metadata": {
            "tags": []
          },
          "execution_count": 43
        }
      ]
    },
    {
      "cell_type": "code",
      "metadata": {
        "id": "KMDJUt-n6k48",
        "colab": {
          "base_uri": "https://localhost:8080/"
        },
        "outputId": "df48a1ed-02d6-4410-ffe0-d91d046c9454"
      },
      "source": [
        "#conditional selection\n",
        "b = a > 2  #take an array and combine with conditional operate to get a boolean values/arrays\n",
        "print(b)"
      ],
      "execution_count": null,
      "outputs": [
        {
          "output_type": "stream",
          "text": [
            "[[False False  True]\n",
            " [ True  True  True]\n",
            " [ True  True  True]]\n"
          ],
          "name": "stdout"
        }
      ]
    },
    {
      "cell_type": "code",
      "metadata": {
        "id": "wjmUWgUvVM7C",
        "colab": {
          "base_uri": "https://localhost:8080/"
        },
        "outputId": "302a20ef-4e3a-48c0-f734-87750894a8a7"
      },
      "source": [
        "#return only those elements those were true using bollean array\n",
        "x=a[b] \n",
        "x.shape"
      ],
      "execution_count": null,
      "outputs": [
        {
          "output_type": "execute_result",
          "data": {
            "text/plain": [
              "(7,)"
            ]
          },
          "metadata": {
            "tags": []
          },
          "execution_count": 45
        }
      ]
    },
    {
      "cell_type": "code",
      "metadata": {
        "id": "YjNwNCW_WKpN",
        "colab": {
          "base_uri": "https://localhost:8080/"
        },
        "outputId": "101b32bc-e387-435b-c51b-35cfffdb2e25"
      },
      "source": [
        "#in one go!!\n",
        "a[a>3]"
      ],
      "execution_count": null,
      "outputs": [
        {
          "output_type": "execute_result",
          "data": {
            "text/plain": [
              "array([4, 5, 6, 7, 8, 9])"
            ]
          },
          "metadata": {
            "tags": []
          },
          "execution_count": 46
        }
      ]
    },
    {
      "cell_type": "code",
      "metadata": {
        "id": "0r8-h05c6tkm",
        "colab": {
          "base_uri": "https://localhost:8080/"
        },
        "outputId": "a1b13835-1e07-413c-bdb9-c956148489de"
      },
      "source": [
        "a1 = np.array([[1,2,3],[4,5,6],[9,10,11]])\n",
        "print(a1)"
      ],
      "execution_count": null,
      "outputs": [
        {
          "output_type": "stream",
          "text": [
            "[[ 1  2  3]\n",
            " [ 4  5  6]\n",
            " [ 9 10 11]]\n"
          ],
          "name": "stdout"
        }
      ]
    },
    {
      "cell_type": "code",
      "metadata": {
        "id": "k7bP8xVi6urV",
        "colab": {
          "base_uri": "https://localhost:8080/"
        },
        "outputId": "8781d7ab-87a9-43a1-8209-48021227fe43"
      },
      "source": [
        "\n",
        "a1[a1<=2]=1\n",
        "a1[a1>2]=0\n",
        "a1"
      ],
      "execution_count": null,
      "outputs": [
        {
          "output_type": "execute_result",
          "data": {
            "text/plain": [
              "array([[1, 1, 0],\n",
              "       [0, 0, 0],\n",
              "       [0, 0, 0]])"
            ]
          },
          "metadata": {
            "tags": []
          },
          "execution_count": 48
        }
      ]
    },
    {
      "cell_type": "markdown",
      "metadata": {
        "id": "SMSKPX3fZvYh"
      },
      "source": [
        "#NumPy Operations"
      ]
    },
    {
      "cell_type": "code",
      "metadata": {
        "id": "pu0aibECZ3LI",
        "colab": {
          "base_uri": "https://localhost:8080/"
        },
        "outputId": "7a9cfdf5-6962-4b14-9041-1f90dff43f2a"
      },
      "source": [
        "import numpy as np\n",
        "arr=np.arange(0,11)\n",
        "arr2=np.arange(0,11)\n",
        "arr\n"
      ],
      "execution_count": null,
      "outputs": [
        {
          "output_type": "execute_result",
          "data": {
            "text/plain": [
              "array([ 0,  1,  2,  3,  4,  5,  6,  7,  8,  9, 10])"
            ]
          },
          "metadata": {
            "tags": []
          },
          "execution_count": 49
        }
      ]
    },
    {
      "cell_type": "code",
      "metadata": {
        "id": "xal_Nh8mbSxN",
        "colab": {
          "base_uri": "https://localhost:8080/"
        },
        "outputId": "6fdbc04b-ed42-4e7d-b137-0c9ae3d31cc2"
      },
      "source": [
        "#addition\n",
        "arr+arr2"
      ],
      "execution_count": null,
      "outputs": [
        {
          "output_type": "execute_result",
          "data": {
            "text/plain": [
              "array([ 0,  2,  4,  6,  8, 10, 12, 14, 16, 18, 20])"
            ]
          },
          "metadata": {
            "tags": []
          },
          "execution_count": 50
        }
      ]
    },
    {
      "cell_type": "code",
      "metadata": {
        "id": "a-3qze30bUwZ",
        "colab": {
          "base_uri": "https://localhost:8080/"
        },
        "outputId": "2ef6a168-51e4-447a-e2bd-bc1ed281775a"
      },
      "source": [
        "#substraction\n",
        "arr-arr"
      ],
      "execution_count": null,
      "outputs": [
        {
          "output_type": "execute_result",
          "data": {
            "text/plain": [
              "array([0, 0, 0, 0, 0, 0, 0, 0, 0, 0, 0])"
            ]
          },
          "metadata": {
            "tags": []
          },
          "execution_count": 51
        }
      ]
    },
    {
      "cell_type": "code",
      "metadata": {
        "id": "DFOaXrV1bWyg",
        "colab": {
          "base_uri": "https://localhost:8080/"
        },
        "outputId": "108d0173-7793-4a8e-ddc8-421797309ffd"
      },
      "source": [
        "#multiplication\n",
        "arr*arr"
      ],
      "execution_count": null,
      "outputs": [
        {
          "output_type": "execute_result",
          "data": {
            "text/plain": [
              "array([  0,   1,   4,   9,  16,  25,  36,  49,  64,  81, 100])"
            ]
          },
          "metadata": {
            "tags": []
          },
          "execution_count": 52
        }
      ]
    },
    {
      "cell_type": "code",
      "metadata": {
        "id": "9QNo4sewduap",
        "colab": {
          "base_uri": "https://localhost:8080/"
        },
        "outputId": "c06834eb-0cc1-4341-e435-38e86beadf2b"
      },
      "source": [
        "arr/arr"
      ],
      "execution_count": null,
      "outputs": [
        {
          "output_type": "stream",
          "text": [
            "/usr/local/lib/python3.7/dist-packages/ipykernel_launcher.py:1: RuntimeWarning: invalid value encountered in true_divide\n",
            "  \"\"\"Entry point for launching an IPython kernel.\n"
          ],
          "name": "stderr"
        },
        {
          "output_type": "execute_result",
          "data": {
            "text/plain": [
              "array([nan,  1.,  1.,  1.,  1.,  1.,  1.,  1.,  1.,  1.,  1.])"
            ]
          },
          "metadata": {
            "tags": []
          },
          "execution_count": 53
        }
      ]
    },
    {
      "cell_type": "code",
      "metadata": {
        "id": "18YxqoO3daa1",
        "colab": {
          "base_uri": "https://localhost:8080/"
        },
        "outputId": "ddb1b817-806f-4cc2-e99c-952afa5e51ca"
      },
      "source": [
        "#scaling an array\n",
        "arr+100\n",
        "#to the power\n",
        "#squareroot\n",
        "#sin\n",
        "#log\n",
        "#max/min\n"
      ],
      "execution_count": null,
      "outputs": [
        {
          "output_type": "execute_result",
          "data": {
            "text/plain": [
              "array([100, 101, 102, 103, 104, 105, 106, 107, 108, 109, 110])"
            ]
          },
          "metadata": {
            "tags": []
          },
          "execution_count": 54
        }
      ]
    },
    {
      "cell_type": "markdown",
      "metadata": {
        "id": "7Q5VIKiwDmGE"
      },
      "source": [
        "For more info: https://numpy.org/doc/stable/reference/ufuncs.html#available-ufuncs"
      ]
    },
    {
      "cell_type": "markdown",
      "metadata": {
        "id": "6etY79KWD91Y"
      },
      "source": [
        "#NumPy Official Doc: https://numpy.org/doc/stable/user/index.html"
      ]
    }
  ]
}